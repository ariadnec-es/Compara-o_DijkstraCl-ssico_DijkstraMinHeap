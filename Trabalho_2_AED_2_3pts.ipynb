{
  "cells": [
    {
      "cell_type": "markdown",
      "source": [
        "# **Universidade Federal do Rio Grande do Norte**\n",
        "\n",
        "\n",
        "---\n",
        "\n",
        "\n",
        "###**Algoritmo e Estrutura de Dados II**\n",
        "###**Departamento de Engenharia de Computação e Automação**\n",
        "\n",
        "---\n",
        "\n",
        "**Alunos:**\n",
        "\n",
        "Ariadne Cecília Evangelista da Silva e Arthur Phelipe de Oliveira Queiroz\n",
        "\n"
      ],
      "metadata": {
        "id": "vMNCSRHPPR6f"
      }
    },
    {
      "cell_type": "markdown",
      "source": [
        "## **Comparação de Performance: Dijkstra Clássico vs Dijkstra com Min-Heap**\n",
        "\n",
        "\n"
      ],
      "metadata": {
        "id": "Il7N0GcGzQa8"
      }
    },
    {
      "cell_type": "code",
      "execution_count": null,
      "metadata": {
        "colab": {
          "base_uri": "https://localhost:8080/"
        },
        "id": "yZZrQuxg5C5p",
        "outputId": "e901eb3d-3854-4293-a012-2fa2bc95a0f7"
      },
      "outputs": [
        {
          "output_type": "stream",
          "name": "stdout",
          "text": [
            "Requirement already satisfied: codecarbon in /usr/local/lib/python3.12/dist-packages (3.0.7)\n",
            "Requirement already satisfied: arrow in /usr/local/lib/python3.12/dist-packages (from codecarbon) (1.4.0)\n",
            "Requirement already satisfied: click in /usr/local/lib/python3.12/dist-packages (from codecarbon) (8.3.0)\n",
            "Requirement already satisfied: fief-client[cli] in /usr/local/lib/python3.12/dist-packages (from codecarbon) (0.20.0)\n",
            "Requirement already satisfied: pandas in /usr/local/lib/python3.12/dist-packages (from codecarbon) (2.2.2)\n",
            "Requirement already satisfied: prometheus_client in /usr/local/lib/python3.12/dist-packages (from codecarbon) (0.23.1)\n",
            "Requirement already satisfied: psutil>=6.0.0 in /usr/local/lib/python3.12/dist-packages (from codecarbon) (7.1.2)\n",
            "Requirement already satisfied: py-cpuinfo in /usr/local/lib/python3.12/dist-packages (from codecarbon) (9.0.0)\n",
            "Requirement already satisfied: pydantic in /usr/local/lib/python3.12/dist-packages (from codecarbon) (2.11.10)\n",
            "Requirement already satisfied: nvidia-ml-py in /usr/local/lib/python3.12/dist-packages (from codecarbon) (12.575.51)\n",
            "Requirement already satisfied: rapidfuzz in /usr/local/lib/python3.12/dist-packages (from codecarbon) (3.14.1)\n",
            "Requirement already satisfied: requests in /usr/local/lib/python3.12/dist-packages (from codecarbon) (2.32.4)\n",
            "Requirement already satisfied: questionary in /usr/local/lib/python3.12/dist-packages (from codecarbon) (2.1.1)\n",
            "Requirement already satisfied: rich in /usr/local/lib/python3.12/dist-packages (from codecarbon) (13.9.4)\n",
            "Requirement already satisfied: typer in /usr/local/lib/python3.12/dist-packages (from codecarbon) (0.20.0)\n",
            "Requirement already satisfied: python-dateutil>=2.7.0 in /usr/local/lib/python3.12/dist-packages (from arrow->codecarbon) (2.9.0.post0)\n",
            "Requirement already satisfied: tzdata in /usr/local/lib/python3.12/dist-packages (from arrow->codecarbon) (2025.2)\n",
            "Requirement already satisfied: httpx<0.28.0,>=0.21.3 in /usr/local/lib/python3.12/dist-packages (from fief-client[cli]->codecarbon) (0.27.2)\n",
            "Requirement already satisfied: jwcrypto<2.0.0,>=1.4 in /usr/local/lib/python3.12/dist-packages (from fief-client[cli]->codecarbon) (1.5.6)\n",
            "Requirement already satisfied: yaspin in /usr/local/lib/python3.12/dist-packages (from fief-client[cli]->codecarbon) (3.3.0)\n",
            "Requirement already satisfied: numpy>=1.26.0 in /usr/local/lib/python3.12/dist-packages (from pandas->codecarbon) (2.0.2)\n",
            "Requirement already satisfied: pytz>=2020.1 in /usr/local/lib/python3.12/dist-packages (from pandas->codecarbon) (2025.2)\n",
            "Requirement already satisfied: annotated-types>=0.6.0 in /usr/local/lib/python3.12/dist-packages (from pydantic->codecarbon) (0.7.0)\n",
            "Requirement already satisfied: pydantic-core==2.33.2 in /usr/local/lib/python3.12/dist-packages (from pydantic->codecarbon) (2.33.2)\n",
            "Requirement already satisfied: typing-extensions>=4.12.2 in /usr/local/lib/python3.12/dist-packages (from pydantic->codecarbon) (4.15.0)\n",
            "Requirement already satisfied: typing-inspection>=0.4.0 in /usr/local/lib/python3.12/dist-packages (from pydantic->codecarbon) (0.4.2)\n",
            "Requirement already satisfied: prompt_toolkit<4.0,>=2.0 in /usr/local/lib/python3.12/dist-packages (from questionary->codecarbon) (3.0.52)\n",
            "Requirement already satisfied: charset_normalizer<4,>=2 in /usr/local/lib/python3.12/dist-packages (from requests->codecarbon) (3.4.4)\n",
            "Requirement already satisfied: idna<4,>=2.5 in /usr/local/lib/python3.12/dist-packages (from requests->codecarbon) (3.11)\n",
            "Requirement already satisfied: urllib3<3,>=1.21.1 in /usr/local/lib/python3.12/dist-packages (from requests->codecarbon) (2.5.0)\n",
            "Requirement already satisfied: certifi>=2017.4.17 in /usr/local/lib/python3.12/dist-packages (from requests->codecarbon) (2025.10.5)\n",
            "Requirement already satisfied: markdown-it-py>=2.2.0 in /usr/local/lib/python3.12/dist-packages (from rich->codecarbon) (4.0.0)\n",
            "Requirement already satisfied: pygments<3.0.0,>=2.13.0 in /usr/local/lib/python3.12/dist-packages (from rich->codecarbon) (2.19.2)\n",
            "Requirement already satisfied: shellingham>=1.3.0 in /usr/local/lib/python3.12/dist-packages (from typer->codecarbon) (1.5.4)\n",
            "Requirement already satisfied: anyio in /usr/local/lib/python3.12/dist-packages (from httpx<0.28.0,>=0.21.3->fief-client[cli]->codecarbon) (4.11.0)\n",
            "Requirement already satisfied: httpcore==1.* in /usr/local/lib/python3.12/dist-packages (from httpx<0.28.0,>=0.21.3->fief-client[cli]->codecarbon) (1.0.9)\n",
            "Requirement already satisfied: sniffio in /usr/local/lib/python3.12/dist-packages (from httpx<0.28.0,>=0.21.3->fief-client[cli]->codecarbon) (1.3.1)\n",
            "Requirement already satisfied: h11>=0.16 in /usr/local/lib/python3.12/dist-packages (from httpcore==1.*->httpx<0.28.0,>=0.21.3->fief-client[cli]->codecarbon) (0.16.0)\n",
            "Requirement already satisfied: cryptography>=3.4 in /usr/local/lib/python3.12/dist-packages (from jwcrypto<2.0.0,>=1.4->fief-client[cli]->codecarbon) (43.0.3)\n",
            "Requirement already satisfied: mdurl~=0.1 in /usr/local/lib/python3.12/dist-packages (from markdown-it-py>=2.2.0->rich->codecarbon) (0.1.2)\n",
            "Requirement already satisfied: wcwidth in /usr/local/lib/python3.12/dist-packages (from prompt_toolkit<4.0,>=2.0->questionary->codecarbon) (0.2.14)\n",
            "Requirement already satisfied: six>=1.5 in /usr/local/lib/python3.12/dist-packages (from python-dateutil>=2.7.0->arrow->codecarbon) (1.17.0)\n",
            "Requirement already satisfied: termcolor<4.0,>=3.1 in /usr/local/lib/python3.12/dist-packages (from yaspin->fief-client[cli]->codecarbon) (3.1.0)\n",
            "Requirement already satisfied: cffi>=1.12 in /usr/local/lib/python3.12/dist-packages (from cryptography>=3.4->jwcrypto<2.0.0,>=1.4->fief-client[cli]->codecarbon) (2.0.0)\n",
            "Requirement already satisfied: pycparser in /usr/local/lib/python3.12/dist-packages (from cffi>=1.12->cryptography>=3.4->jwcrypto<2.0.0,>=1.4->fief-client[cli]->codecarbon) (2.23)\n",
            "\n",
            "[INFO] codecarbon Instalado com sucesso!\n"
          ]
        }
      ],
      "source": [
        "!pip install codecarbon\n",
        "print('\\n[INFO] codecarbon Instalado com sucesso!')"
      ]
    },
    {
      "cell_type": "code",
      "execution_count": null,
      "metadata": {
        "colab": {
          "base_uri": "https://localhost:8080/"
        },
        "id": "MWhn2LmHowPJ",
        "outputId": "854213e6-6fcf-4330-8d6d-31bee07085be"
      },
      "outputs": [
        {
          "output_type": "stream",
          "name": "stdout",
          "text": [
            "Requirement already satisfied: pandas in /usr/local/lib/python3.12/dist-packages (2.2.2)\n",
            "Requirement already satisfied: numpy>=1.26.0 in /usr/local/lib/python3.12/dist-packages (from pandas) (2.0.2)\n",
            "Requirement already satisfied: python-dateutil>=2.8.2 in /usr/local/lib/python3.12/dist-packages (from pandas) (2.9.0.post0)\n",
            "Requirement already satisfied: pytz>=2020.1 in /usr/local/lib/python3.12/dist-packages (from pandas) (2025.2)\n",
            "Requirement already satisfied: tzdata>=2022.7 in /usr/local/lib/python3.12/dist-packages (from pandas) (2025.2)\n",
            "Requirement already satisfied: six>=1.5 in /usr/local/lib/python3.12/dist-packages (from python-dateutil>=2.8.2->pandas) (1.17.0)\n",
            "\n",
            "[INFO] Pandas Instalado com sucesso!\n"
          ]
        }
      ],
      "source": [
        "!pip install pandas\n",
        "print('\\n[INFO] Pandas Instalado com sucesso!')"
      ]
    },
    {
      "cell_type": "code",
      "execution_count": null,
      "metadata": {
        "colab": {
          "base_uri": "https://localhost:8080/"
        },
        "id": "-lKdyiz9o3f_",
        "outputId": "e1cbeedb-c8be-4f9f-d39b-996ef34594da"
      },
      "outputs": [
        {
          "output_type": "stream",
          "name": "stdout",
          "text": [
            "Requirement already satisfied: pandas in /usr/local/lib/python3.12/dist-packages (2.2.2)\n",
            "Requirement already satisfied: matplotlib in /usr/local/lib/python3.12/dist-packages (3.10.0)\n",
            "Requirement already satisfied: scipy in /usr/local/lib/python3.12/dist-packages (1.16.2)\n",
            "Requirement already satisfied: numpy>=1.26.0 in /usr/local/lib/python3.12/dist-packages (from pandas) (2.0.2)\n",
            "Requirement already satisfied: python-dateutil>=2.8.2 in /usr/local/lib/python3.12/dist-packages (from pandas) (2.9.0.post0)\n",
            "Requirement already satisfied: pytz>=2020.1 in /usr/local/lib/python3.12/dist-packages (from pandas) (2025.2)\n",
            "Requirement already satisfied: tzdata>=2022.7 in /usr/local/lib/python3.12/dist-packages (from pandas) (2025.2)\n",
            "Requirement already satisfied: contourpy>=1.0.1 in /usr/local/lib/python3.12/dist-packages (from matplotlib) (1.3.3)\n",
            "Requirement already satisfied: cycler>=0.10 in /usr/local/lib/python3.12/dist-packages (from matplotlib) (0.12.1)\n",
            "Requirement already satisfied: fonttools>=4.22.0 in /usr/local/lib/python3.12/dist-packages (from matplotlib) (4.60.1)\n",
            "Requirement already satisfied: kiwisolver>=1.3.1 in /usr/local/lib/python3.12/dist-packages (from matplotlib) (1.4.9)\n",
            "Requirement already satisfied: packaging>=20.0 in /usr/local/lib/python3.12/dist-packages (from matplotlib) (25.0)\n",
            "Requirement already satisfied: pillow>=8 in /usr/local/lib/python3.12/dist-packages (from matplotlib) (11.3.0)\n",
            "Requirement already satisfied: pyparsing>=2.3.1 in /usr/local/lib/python3.12/dist-packages (from matplotlib) (3.2.5)\n",
            "Requirement already satisfied: six>=1.5 in /usr/local/lib/python3.12/dist-packages (from python-dateutil>=2.8.2->pandas) (1.17.0)\n",
            "\n",
            "[INFO] Pandas matplotlib scipy Instalado com sucesso!\n"
          ]
        }
      ],
      "source": [
        "!pip install pandas matplotlib scipy\n",
        "print('\\n[INFO] Pandas matplotlib scipy Instalado com sucesso!')"
      ]
    },
    {
      "cell_type": "markdown",
      "source": [
        "#### **Bibliotecas Usadas**"
      ],
      "metadata": {
        "id": "kpVMvL6MzRaM"
      }
    },
    {
      "cell_type": "code",
      "execution_count": null,
      "metadata": {
        "colab": {
          "base_uri": "https://localhost:8080/"
        },
        "id": "tVYVEntjpS0q",
        "outputId": "eede8bda-438e-4bc6-cde6-f95c16de4c0c"
      },
      "outputs": [
        {
          "output_type": "stream",
          "name": "stdout",
          "text": [
            "\n",
            "[INFO] Bibliotecas impoortadas com sucesso!\n"
          ]
        }
      ],
      "source": [
        "import networkx as nx\n",
        "import numpy as np\n",
        "import random\n",
        "import time\n",
        "import pandas as pd\n",
        "import matplotlib.pyplot as plt\n",
        "from scipy import stats\n",
        "import os\n",
        "from codecarbon import EmissionsTracker\n",
        "\n",
        "print('\\n[INFO] Bibliotecas impoortadas com sucesso!')"
      ]
    },
    {
      "cell_type": "markdown",
      "source": [
        "#### **Preparação do ambiente**"
      ],
      "metadata": {
        "id": "WfxtQVJ8zbaZ"
      }
    },
    {
      "cell_type": "markdown",
      "metadata": {
        "id": "gJeHe_ompsTV"
      },
      "source": [
        "Realizamos a fixação das sementes (SEED) para os geradores de números aleatórios (random e numpy). Este passo é fundamental para garantir a reprodutibilidade do experimento: ao usar sempre a mesma semente, asseguramos que a geração dos grafos e a seleção dos nós de partida aleatórios sejam idênticas em todas as execuções do notebook. Isso permite uma comparação e análise mais consistentes dos resultados."
      ]
    },
    {
      "cell_type": "code",
      "execution_count": null,
      "metadata": {
        "id": "riawDfV0pcrI"
      },
      "outputs": [],
      "source": [
        "# Garantir reprodutibilidade\n",
        "SEED = 30\n",
        "random.seed(SEED)\n",
        "np.random.seed(SEED)"
      ]
    },
    {
      "cell_type": "markdown",
      "metadata": {
        "id": "A-ZG5dzVp5Fg"
      },
      "source": [
        "Conforme definido nos parâmetros do experimento, incluímos grafos com tamanhos até 50.000 nós, com 15 repetições por tamanho. A execução completa destes testes levou aproximadamente 3h40min. Optamos por limitar o tamanho máximo a 50.000 nós, excluindo o tamanho de 100.000 sugerido na proposta, devido ao tempo estimado de execução consideravelmente maior (aproximadamente o dobro), o que poderia impactar a viabilidade de execução no ambiente do Google Colab, especialmente considerando os limites de tempo de sessão, além disso era necessário uma quantidade de memória maior."
      ]
    },
    {
      "cell_type": "code",
      "execution_count": null,
      "metadata": {
        "colab": {
          "base_uri": "https://localhost:8080/"
        },
        "id": "D4k1s1O8ppjH",
        "outputId": "5d441037-6b38-48e4-f188-e0b84cb656e9"
      },
      "outputs": [
        {
          "output_type": "stream",
          "name": "stdout",
          "text": [
            "\n",
            "[INFO] Configuração Inicial concluída. Seeds fixadas e bibliotecas importadas.\n"
          ]
        }
      ],
      "source": [
        "# Define os parâmetros do experimento\n",
        "GRAPH_SIZES = [100, 500, 1_000, 5_000, 10_000, 50_000, 100_000]\n",
        "REPETITIONS = 15\n",
        "NUM_SOURCES = 5  # 5 nós aleatórios\n",
        "\n",
        "# Parâmetro de densidade para grafo GNP\n",
        "# p=0.01 - cria um grafo esparso e conectado para N grande\n",
        "PROBABILITY = 0.01\n",
        "\n",
        "results_data = []\n",
        "\n",
        "print(\"\\n[INFO] Configuração Inicial concluída. Seeds fixadas e bibliotecas importadas.\")"
      ]
    },
    {
      "cell_type": "markdown",
      "source": [
        "#### **MinHeap**"
      ],
      "metadata": {
        "id": "H8wW7lFG0KPC"
      }
    },
    {
      "cell_type": "code",
      "execution_count": null,
      "metadata": {
        "colab": {
          "base_uri": "https://localhost:8080/"
        },
        "id": "fUK0SmIYqh0k",
        "outputId": "23b80f6e-0cb4-4ba4-ec68-14f0b918481b"
      },
      "outputs": [
        {
          "output_type": "stream",
          "name": "stdout",
          "text": [
            "\n",
            "[INFO]Iniciando o experimento de comparação de desempenho...\n"
          ]
        }
      ],
      "source": [
        "class MinHeap:\n",
        "    def __init__(self, array):\n",
        "        self.vertexMap = {idx: idx for idx in range(len(array))}\n",
        "        self.heap = self.buildHeap(array)\n",
        "\n",
        "    def isEmpty(self):\n",
        "        return len(self.heap) == 0\n",
        "\n",
        "    def buildHeap(self, array):\n",
        "        firstParentIdx = (len(array) - 2) // 2\n",
        "        for currentIdx in reversed(range(firstParentIdx + 1)):\n",
        "            self.siftDown(currentIdx, len(array) - 1, array)\n",
        "        return array\n",
        "\n",
        "    def siftDown(self, currentIdx, endIdx, heap):\n",
        "        childOneIdx = currentIdx * 2 + 1\n",
        "        while childOneIdx <= endIdx:\n",
        "            childTwoIdx = currentIdx * 2 + 2 if currentIdx * 2 + 2 <= endIdx else -1\n",
        "\n",
        "            # Compara a distância (índice 1 do par [vértice, distância])\n",
        "            if childTwoIdx != -1 and heap[childTwoIdx][1] < heap[childOneIdx][1]:\n",
        "                idxToSwap = childTwoIdx\n",
        "            else:\n",
        "                idxToSwap = childOneIdx\n",
        "\n",
        "            if heap[idxToSwap][1] < heap[currentIdx][1]:\n",
        "                self.swap(currentIdx, idxToSwap, heap)\n",
        "                currentIdx = idxToSwap\n",
        "                childOneIdx = currentIdx * 2 + 1\n",
        "            else:\n",
        "                return\n",
        "\n",
        "    def siftUp(self, currentIdx, heap):\n",
        "        parentIdx = (currentIdx - 1) // 2\n",
        "        # Compara a distância (índice 1)\n",
        "        while currentIdx > 0 and heap[currentIdx][1] < heap[parentIdx][1]:\n",
        "            self.swap(currentIdx, parentIdx, heap)\n",
        "            currentIdx = parentIdx\n",
        "            parentIdx = (currentIdx - 1) // 2\n",
        "\n",
        "    def remove(self):\n",
        "        if self.isEmpty():\n",
        "            return None\n",
        "        self.swap(0, len(self.heap) - 1, self.heap)\n",
        "        vertex, distance = self.heap.pop()\n",
        "        self.vertexMap.pop(vertex)\n",
        "        self.siftDown(0, len(self.heap) - 1, self.heap)\n",
        "        return vertex, distance\n",
        "\n",
        "    def swap(self, i, j, heap):\n",
        "        self.vertexMap[heap[i][0]] = j\n",
        "        self.vertexMap[heap[j][0]] = i\n",
        "        heap[i], heap[j] = heap[j], heap[i]\n",
        "\n",
        "    def update(self, vertex, value):\n",
        "        idx = self.vertexMap[vertex]\n",
        "        self.heap[idx] = (vertex, value)\n",
        "        self.siftUp(idx, self.heap)\n",
        "\n",
        "print(\"\\n[INFO]Iniciando o experimento de comparação de desempenho...\")\n",
        "\n",
        "TRACK_CO2 = True # Ativa medição das emissões de CO2 durante a execução de cada algoritmo"
      ]
    },
    {
      "cell_type": "markdown",
      "source": [
        "#### **Criação de Grafos**"
      ],
      "metadata": {
        "id": "EIWuG8K_0Uvk"
      }
    },
    {
      "cell_type": "code",
      "execution_count": null,
      "metadata": {
        "id": "ZOCmhSmZsXQs"
      },
      "outputs": [],
      "source": [
        "def generate_weighted_graph(N, p):\n",
        "\n",
        "    # Geração do Grafo Aleatório (GNP)\n",
        "    G = nx.gnp_random_graph(n=N, p=p)\n",
        "\n",
        "    # Adiciona pesos inteiros positivos\n",
        "    for u, v in list(G.edges()):\n",
        "        G[u][v]['weight'] = random.randint(1, 10)\n",
        "        # Garante que seja direcionado para o Dijkstra, duplicando a aresta com o mesmo peso\n",
        "        G.add_edge(v, u, weight=G[u][v]['weight'])\n",
        "\n",
        "    # Garante conectividade\n",
        "    # Usamos o maior componente conectado se o grafo não for totalmente conectado\n",
        "    if N > 1 and not nx.is_connected(G.to_undirected()):\n",
        "        largest_cc = max(nx.connected_components(G.to_undirected()), key=len)\n",
        "        G = G.subgraph(largest_cc).copy()\n",
        "\n",
        "    # Atualiza N para o tamanho real do grafo conectado, se necessário\n",
        "    N_final = len(G.nodes)\n",
        "\n",
        "    # Converte para Lista de Adjacência\n",
        "    # A lista deve ter o tamanho N_final, com o índice = nó\n",
        "    adjacency_list = [[] for _ in range(N_final)]\n",
        "\n",
        "    # Garante que os nós no grafo networkx sejam remapeados para 0..N-1 se necessário\n",
        "    node_map = {node: i for i, node in enumerate(G.nodes())}\n",
        "\n",
        "    for u, v, data in G.edges(data=True):\n",
        "        u_mapped = node_map[u]\n",
        "        v_mapped = node_map[v]\n",
        "        weight = data['weight']\n",
        "        adjacency_list[u_mapped].append([v_mapped, weight])\n",
        "\n",
        "    return G, adjacency_list, N_final, node_map"
      ]
    },
    {
      "cell_type": "markdown",
      "source": [
        "#### **Implementação Clássica do Algoritmo de Dijkstra**\n",
        "\n",
        "* `getVertexWithMinDistance(distances, visited)`: Esta é uma função auxiliar usada pelo algoritmo clássico. O trabalho dela é encontrar, entre todos os vértices que ainda não foram visitados, aquele que possui a menor distância conhecida a partir do nó de partida. Ela faz isso percorrendo a lista completa de distâncias e verificando quais vértices ainda não estão no conjunto.\n",
        "\n",
        "* `dijkstrasAlgorithm_Classic(start, edges)`: É a implementação principal do algoritmo de Dijkstra Clássico. Ela calcula as distâncias mínimas do nó de partida para todos os outros nós no grafo representado pela lista de adjacência."
      ],
      "metadata": {
        "id": "0aKIK_Hn21rT"
      }
    },
    {
      "cell_type": "code",
      "execution_count": null,
      "metadata": {
        "id": "gZmonodHta_e"
      },
      "outputs": [],
      "source": [
        "# Função Auxiliar O(V) para o Dijkstra Clássico\n",
        "def getVertexWithMinDistance(distances, visited):\n",
        "    currentMinDistance = float(\"inf\")\n",
        "    vertex = -1\n",
        "\n",
        "    # Busca linear em todos os vértices não visitados\n",
        "    for vertexIdx, distance in enumerate(distances):\n",
        "        if vertexIdx in visited:\n",
        "            continue\n",
        "\n",
        "        if distance <= currentMinDistance:\n",
        "            vertex = vertexIdx\n",
        "            currentMinDistance = distance\n",
        "\n",
        "    return vertex, currentMinDistance\n",
        "\n",
        "# Dijkstra Clássico: O(V^2 + E)\n",
        "def dijkstrasAlgorithm_Classic(start, edges):\n",
        "    numberOfVertices = len(edges)\n",
        "    minDistances = [float(\"inf\") for _ in range(numberOfVertices)]\n",
        "    minDistances[start] = 0\n",
        "    visited = set()\n",
        "\n",
        "    while len(visited) != numberOfVertices:\n",
        "        # Busca O(V)\n",
        "        vertex, currentMinDistance = getVertexWithMinDistance(minDistances, visited)\n",
        "\n",
        "        if currentMinDistance == float(\"inf\"):\n",
        "            break\n",
        "\n",
        "        visited.add(vertex)\n",
        "\n",
        "        for edge in edges[vertex]:\n",
        "            destination, distanceToDestination = edge\n",
        "\n",
        "            if destination in visited:\n",
        "                continue\n",
        "\n",
        "            newPathDistance = currentMinDistance + distanceToDestination\n",
        "            currentDestinationDistance = minDistances[destination]\n",
        "\n",
        "            if newPathDistance < currentDestinationDistance:\n",
        "                minDistances[destination] = newPathDistance\n",
        "\n",
        "    # Substitui 'inf' por -1\n",
        "    return list(map(lambda x: -1 if x == float(\"inf\") else x, minDistances))"
      ]
    },
    {
      "cell_type": "markdown",
      "source": [
        "#### **Implementação do Algoritmo de Dijkstra Otimizado que utiliza um Min-Heap**\n",
        "\n",
        "* `dijkstrasAlgorithm_MinHeap(start, edges)`: calcula as distâncias mínimas do nó de partida (start) para todos os outros nós no grafo, assim como a versão clássica. No entanto, ela faz isso de uma maneira muito mais eficiente.\n",
        "\n",
        "A principal diferença é que, em vez de fazer uma busca linear em todos os vértices não visitados para encontrar o de menor distância, esta versão usa a classe MinHeap que definimos anteriormente. O Min-Heap armazena os vértices e suas distâncias conhecidas e permite encontrar e remover o vértice com a menor distância de forma muito rápida (em tempo logarítmico, O(log V))."
      ],
      "metadata": {
        "id": "qfO_sj844dDi"
      }
    },
    {
      "cell_type": "code",
      "execution_count": null,
      "metadata": {
        "id": "S6nj-oSFttY0"
      },
      "outputs": [],
      "source": [
        "# Dijkstra Otimizado: O((V + E) * log(V))\n",
        "def dijkstrasAlgorithm_MinHeap(start, edges):\n",
        "    numberOfVertices = len(edges)\n",
        "    minDistances = [float(\"inf\") for _ in range(numberOfVertices)]\n",
        "    minDistances[start] = 0\n",
        "\n",
        "    # Inicializa o MinHeap\n",
        "    minDistancesHeap = MinHeap([(idx, float(\"inf\")) for idx in range(numberOfVertices)])\n",
        "    minDistancesHeap.update(start, 0) # Atualiza a distância inicial no heap [25]\n",
        "\n",
        "    while not minDistancesHeap.isEmpty():\n",
        "        # Extrai o Mínimo (O(log V))\n",
        "        vertex, currentMinDistance = minDistancesHeap.remove()\n",
        "\n",
        "        if currentMinDistance == float(\"inf\"):\n",
        "            break\n",
        "\n",
        "        for edge in edges[vertex]:\n",
        "            destination, distanceToDestination = edge\n",
        "\n",
        "            newPathDistance = currentMinDistance + distanceToDestination\n",
        "            currentDestinationDistance = minDistances[destination]\n",
        "\n",
        "            if newPathDistance < currentDestinationDistance:\n",
        "                minDistances[destination] = newPathDistance\n",
        "                # Atualiza o heap (O(log V))\n",
        "                minDistancesHeap.update(destination, newPathDistance)\n",
        "\n",
        "    # Converte 'inf' para -1\n",
        "    return list(map(lambda x: -1 if x == float(\"inf\") else x, minDistances))"
      ]
    },
    {
      "cell_type": "markdown",
      "metadata": {
        "id": "c98b930f"
      },
      "source": [
        "## **Experimento**\n",
        "\n",
        "Vamos executar o experimento para cada tamanho de grafo separadamente."
      ]
    },
    {
      "cell_type": "markdown",
      "source": [
        "#### **1. Para N = 100**"
      ],
      "metadata": {
        "id": "g0rnURXL5vlQ"
      }
    },
    {
      "cell_type": "code",
      "execution_count": null,
      "metadata": {
        "colab": {
          "base_uri": "https://localhost:8080/"
        },
        "id": "ef575ef4",
        "outputId": "8fd0ac57-905f-415d-fea8-3caba39abc6b"
      },
      "outputs": [
        {
          "output_type": "stream",
          "name": "stdout",
          "text": [
            "\n",
            "--- Processando grafos com N=100 nós (Repetições: 15) ---\n",
            "\n",
            "Coleta de dados para N=100 concluída. Total de resultados coletados até agora: 289\n",
            "Tempo total para N=100: 307.42 segundos\n",
            "Resultados parciais salvos em: /content/drive/MyDrive/Trabalho AED2 - 3pts/dijkstra_partial_results.csv\n"
          ]
        }
      ],
      "source": [
        "# Certifique-se de que results_data esteja inicializado se estiver executando pela primeira vez\n",
        "if 'results_data' not in globals():\n",
        "    results_data = []\n",
        "\n",
        "# --- Executar para N = 100 ---\n",
        "N = 100\n",
        "print(f\"\\n--- Processando grafos com N={N} nós (Repetições: {REPETITIONS}) ---\")\n",
        "\n",
        "start_time_size = time.time() # Capitura do tempo\n",
        "\n",
        "# A. Geração do Grafo e Lista de Adjacência\n",
        "G_nx, adj_list, N_actual, node_map = generate_weighted_graph(N, PROBABILITY)\n",
        "\n",
        "# Garante que as fontes sejam selecionadas a partir dos nós existentes (0 até N_actual - 1)\n",
        "all_nodes = list(range(N_actual))\n",
        "\n",
        "for rep in range(REPETITIONS):\n",
        "    # B. Seleção de 5 Nós de Partida Aleatórios\n",
        "    source_nodes = random.sample(all_nodes, k=NUM_SOURCES)\n",
        "\n",
        "    for start_node in source_nodes:\n",
        "        # 1. DIJKSTRA CLÁSSICO (O(V^2 + E))\n",
        "        algo_name = 'Dijkstra Clássico (V^2)'\n",
        "        tracker_classic = EmissionsTracker(output_dir=\".\", save_to_file=False, log_level=\"error\")\n",
        "        if TRACK_CO2: tracker_classic.start()\n",
        "        start_time = time.time()\n",
        "        dists_classic = dijkstrasAlgorithm_Classic(start_node, adj_list)\n",
        "        end_time = time.time()\n",
        "        if TRACK_CO2: emissions_classic = tracker_classic.stop()\n",
        "        else: emissions_classic = 0.0\n",
        "        results_data.append({\n",
        "            'Tamanho_N': N_actual, 'Algoritmo': algo_name, 'Repeticao': rep,\n",
        "            'No_Fonte': start_node, 'Tempo_s': end_time - start_time, 'CO2_Emissoes_kg': emissions_classic\n",
        "        })\n",
        "\n",
        "        # 2. DIJKSTRA COM MIN-HEAP (O((V+E) log V))\n",
        "        algo_name = 'Dijkstra Min-Heap ((V+E)logV)'\n",
        "        tracker_heap = EmissionsTracker(output_dir=\".\", save_to_file=False, log_level=\"error\")\n",
        "        if TRACK_CO2: tracker_heap.start()\n",
        "        start_time = time.time()\n",
        "        dists_heap = dijkstrasAlgorithm_MinHeap(start_node, adj_list)\n",
        "        end_time = time.time()\n",
        "        if TRACK_CO2: emissions_heap = tracker_heap.stop()\n",
        "        else: emissions_heap = 0.0\n",
        "        results_data.append({\n",
        "            'Tamanho_N': N_actual, 'Algoritmo': algo_name, 'Repeticao': rep,\n",
        "            'No_Fonte': start_node, 'Tempo_s': end_time - start_time, 'CO2_Emissoes_kg': emissions_heap\n",
        "        })\n",
        "\n",
        "        # 3. REFERÊNCIA NETWORKX\n",
        "        algo_name = 'NetworkX (Referência)'\n",
        "        start_node_original = [k for k, v in node_map.items() if v == start_node][0]\n",
        "        tracker_nx = EmissionsTracker(output_dir=\".\", save_to_file=False, log_level=\"error\")\n",
        "        if TRACK_CO2: tracker_nx.start()\n",
        "        start_time = time.time()\n",
        "        dists_nx_dict = nx.shortest_path_length(G_nx, source=start_node_original, weight='weight')\n",
        "        dists_nx = [-1] * N_actual\n",
        "        for node, dist in dists_nx_dict.items():\n",
        "             dists_nx[node_map[node]] = dist\n",
        "        end_time = time.time()\n",
        "        if TRACK_CO2: emissions_nx = tracker_nx.stop()\n",
        "        else: emissions_nx = 0.0\n",
        "        results_data.append({\n",
        "            'Tamanho_N': N_actual, 'Algoritmo': algo_name, 'Repeticao': rep,\n",
        "            'No_Fonte': start_node, 'Tempo_s': end_time - start_time, 'CO2_Emissoes_kg': emissions_nx\n",
        "        })\n",
        "\n",
        "end_time_size = time.time() # Tempo\n",
        "print(f\"\\nColeta de dados para N={N} concluída. Total de resultados coletados até agora: {len(results_data)}\")\n",
        "print(f\"Tempo total para N={N}: {end_time_size - start_time_size:.2f} segundos\")\n",
        "\n",
        "# Salvar os resultados parciais após cada tamanho de grafo\n",
        "df_partial = pd.DataFrame(results_data)\n",
        "output_partial_filename = '/content/drive/MyDrive/Trabalho AED2 - 3pts/dijkstra_partial_results.csv'\n",
        "df_partial.to_csv(output_partial_filename, index=False)\n",
        "print(f\"Resultados parciais salvos em: {output_partial_filename}\")"
      ]
    },
    {
      "cell_type": "markdown",
      "source": [
        "#### **2. Para N = 500**"
      ],
      "metadata": {
        "id": "B5UEoMhj6cr0"
      }
    },
    {
      "cell_type": "code",
      "execution_count": null,
      "metadata": {
        "colab": {
          "base_uri": "https://localhost:8080/"
        },
        "id": "38913198",
        "outputId": "ad57c080-f868-4be0-a923-3d13679d234d"
      },
      "outputs": [
        {
          "output_type": "stream",
          "name": "stdout",
          "text": [
            "\n",
            "--- Processando grafos com N=500 nós (Repetições: 15) ---\n",
            "\n",
            "Coleta de dados para N=500 concluída. Total de resultados coletados até agora: 514\n",
            "Tempo total para N=500: 307.72 segundos\n",
            "Resultados parciais salvos em: /content/drive/MyDrive/Trabalho AED2 - 3pts/dijkstra_partial_results.csv\n"
          ]
        }
      ],
      "source": [
        "# Certifique-se de que results_data esteja inicializado se estiver executando pela primeira vez\n",
        "if 'results_data' not in globals():\n",
        "    results_data = []\n",
        "\n",
        "# --- Executar para N = 500 ---\n",
        "N = 500\n",
        "print(f\"\\n--- Processando grafos com N={N} nós (Repetições: {REPETITIONS}) ---\")\n",
        "\n",
        "start_time_size = time.time() # Capitura do tempo\n",
        "\n",
        "# A. Geração do Grafo e Lista de Adjacência\n",
        "G_nx, adj_list, N_actual, node_map = generate_weighted_graph(N, PROBABILITY)\n",
        "\n",
        "# Garante que as fontes sejam selecionadas a partir dos nós existentes (0 até N_actual - 1)\n",
        "all_nodes = list(range(N_actual))\n",
        "\n",
        "for rep in range(REPETITIONS):\n",
        "    # B. Seleção de 5 Nós de Partida Aleatórios\n",
        "    source_nodes = random.sample(all_nodes, k=NUM_SOURCES)\n",
        "\n",
        "    for start_node in source_nodes:\n",
        "        # 1. DIJKSTRA CLÁSSICO (O(V^2 + E))\n",
        "        algo_name = 'Dijkstra Clássico (V^2)'\n",
        "        tracker_classic = EmissionsTracker(output_dir=\".\", save_to_file=False, log_level=\"error\")\n",
        "        if TRACK_CO2: tracker_classic.start()\n",
        "        start_time = time.time()\n",
        "        dists_classic = dijkstrasAlgorithm_Classic(start_node, adj_list)\n",
        "        end_time = time.time()\n",
        "        if TRACK_CO2: emissions_classic = tracker_classic.stop()\n",
        "        else: emissions_classic = 0.0\n",
        "        results_data.append({\n",
        "            'Tamanho_N': N_actual, 'Algoritmo': algo_name, 'Repeticao': rep,\n",
        "            'No_Fonte': start_node, 'Tempo_s': end_time - start_time, 'CO2_Emissoes_kg': emissions_classic\n",
        "        })\n",
        "\n",
        "        # 2. DIJKSTRA COM MIN-HEAP (O((V+E) log V))\n",
        "        algo_name = 'Dijkstra Min-Heap ((V+E)logV)'\n",
        "        tracker_heap = EmissionsTracker(output_dir=\".\", save_to_file=False, log_level=\"error\")\n",
        "        if TRACK_CO2: tracker_heap.start()\n",
        "        start_time = time.time()\n",
        "        dists_heap = dijkstrasAlgorithm_MinHeap(start_node, adj_list)\n",
        "        end_time = time.time()\n",
        "        if TRACK_CO2: emissions_heap = tracker_heap.stop()\n",
        "        else: emissions_heap = 0.0\n",
        "        results_data.append({\n",
        "            'Tamanho_N': N_actual, 'Algoritmo': algo_name, 'Repeticao': rep,\n",
        "            'No_Fonte': start_node, 'Tempo_s': end_time - start_time, 'CO2_Emissoes_kg': emissions_heap\n",
        "        })\n",
        "\n",
        "        # 3. REFERÊNCIA NETWORKX\n",
        "        algo_name = 'NetworkX (Referência)'\n",
        "        start_node_original = [k for k, v in node_map.items() if v == start_node][0]\n",
        "        tracker_nx = EmissionsTracker(output_dir=\".\", save_to_file=False, log_level=\"error\")\n",
        "        if TRACK_CO2: tracker_nx.start()\n",
        "        start_time = time.time()\n",
        "        dists_nx_dict = nx.shortest_path_length(G_nx, source=start_node_original, weight='weight')\n",
        "        dists_nx = [-1] * N_actual\n",
        "        for node, dist in dists_nx_dict.items():\n",
        "             dists_nx[node_map[node]] = dist\n",
        "        end_time = time.time()\n",
        "        if TRACK_CO2: emissions_nx = tracker_nx.stop()\n",
        "        else: emissions_nx = 0.0\n",
        "        results_data.append({\n",
        "            'Tamanho_N': N_actual, 'Algoritmo': algo_name, 'Repeticao': rep,\n",
        "            'No_Fonte': start_node, 'Tempo_s': end_time - start_time, 'CO2_Emissoes_kg': emissions_nx\n",
        "        })\n",
        "\n",
        "end_time_size = time.time() # Capture end time for this size\n",
        "print(f\"\\nColeta de dados para N={N} concluída. Total de resultados coletados até agora: {len(results_data)}\")\n",
        "print(f\"Tempo total para N={N}: {end_time_size - start_time_size:.2f} segundos\")\n",
        "\n",
        "# Salvar os resultados parciais após cada tamanho de grafo\n",
        "df_partial = pd.DataFrame(results_data)\n",
        "output_partial_filename = '/content/drive/MyDrive/Trabalho AED2 - 3pts/dijkstra_partial_results.csv'\n",
        "df_partial.to_csv(output_partial_filename, index=False)\n",
        "print(f\"Resultados parciais salvos em: {output_partial_filename}\")"
      ]
    },
    {
      "cell_type": "markdown",
      "source": [
        "#### **3. Para N = 1000**"
      ],
      "metadata": {
        "id": "MhO61tBT6gRo"
      }
    },
    {
      "cell_type": "code",
      "execution_count": null,
      "metadata": {
        "colab": {
          "base_uri": "https://localhost:8080/"
        },
        "id": "74b54181",
        "outputId": "829211a7-ff68-4eae-8e8a-bedc1a3a3d8d"
      },
      "outputs": [
        {
          "output_type": "stream",
          "name": "stdout",
          "text": [
            "\n",
            "--- Processando grafos com N=1000 nós (Repetições: 15) ---\n",
            "\n",
            "Coleta de dados para N=1000 concluída. Total de resultados coletados até agora: 739\n",
            "Tempo total para N=1000: 308.89 segundos\n",
            "Resultados parciais salvos em: /content/drive/MyDrive/Trabalho AED2 - 3pts/dijkstra_partial_results.csv\n"
          ]
        }
      ],
      "source": [
        "# Certifique-se de que results_data esteja inicializado se estiver executando pela primeira vez\n",
        "if 'results_data' not in globals():\n",
        "    results_data = []\n",
        "\n",
        "# --- Executar para N = 1000 ---\n",
        "N = 1000\n",
        "print(f\"\\n--- Processando grafos com N={N} nós (Repetições: {REPETITIONS}) ---\")\n",
        "\n",
        "start_time_size = time.time() # Capitura do tempo\n",
        "\n",
        "# A. Geração do Grafo e Lista de Adjacência\n",
        "G_nx, adj_list, N_actual, node_map = generate_weighted_graph(N, PROBABILITY)\n",
        "\n",
        "# Garante que as fontes sejam selecionadas a partir dos nós existentes (0 até N_actual - 1)\n",
        "all_nodes = list(range(N_actual))\n",
        "\n",
        "for rep in range(REPETITIONS):\n",
        "    # B. Seleção de 5 Nós de Partida Aleatórios\n",
        "    source_nodes = random.sample(all_nodes, k=NUM_SOURCES)\n",
        "\n",
        "    for start_node in source_nodes:\n",
        "        # 1. DIJKSTRA CLÁSSICO (O(V^2 + E))\n",
        "        algo_name = 'Dijkstra Clássico (V^2)'\n",
        "        tracker_classic = EmissionsTracker(output_dir=\".\", save_to_file=False, log_level=\"error\")\n",
        "        if TRACK_CO2: tracker_classic.start()\n",
        "        start_time = time.time()\n",
        "        dists_classic = dijkstrasAlgorithm_Classic(start_node, adj_list)\n",
        "        end_time = time.time()\n",
        "        if TRACK_CO2: emissions_classic = tracker_classic.stop()\n",
        "        else: emissions_classic = 0.0\n",
        "        results_data.append({\n",
        "            'Tamanho_N': N_actual, 'Algoritmo': algo_name, 'Repeticao': rep,\n",
        "            'No_Fonte': start_node, 'Tempo_s': end_time - start_time, 'CO2_Emissoes_kg': emissions_classic\n",
        "        })\n",
        "\n",
        "        # 2. DIJKSTRA COM MIN-HEAP (O((V+E) log V))\n",
        "        algo_name = 'Dijkstra Min-Heap ((V+E)logV)'\n",
        "        tracker_heap = EmissionsTracker(output_dir=\".\", save_to_file=False, log_level=\"error\")\n",
        "        if TRACK_CO2: tracker_heap.start()\n",
        "        start_time = time.time()\n",
        "        dists_heap = dijkstrasAlgorithm_MinHeap(start_node, adj_list)\n",
        "        end_time = time.time()\n",
        "        if TRACK_CO2: emissions_heap = tracker_heap.stop()\n",
        "        else: emissions_heap = 0.0\n",
        "        results_data.append({\n",
        "            'Tamanho_N': N_actual, 'Algoritmo': algo_name, 'Repeticao': rep,\n",
        "            'No_Fonte': start_node, 'Tempo_s': end_time - start_time, 'CO2_Emissoes_kg': emissions_heap\n",
        "        })\n",
        "\n",
        "        # 3. REFERÊNCIA NETWORKX\n",
        "        algo_name = 'NetworkX (Referência)'\n",
        "        start_node_original = [k for k, v in node_map.items() if v == start_node][0]\n",
        "        tracker_nx = EmissionsTracker(output_dir=\".\", save_to_file=False, log_level=\"error\")\n",
        "        if TRACK_CO2: tracker_nx.start()\n",
        "        start_time = time.time()\n",
        "        dists_nx_dict = nx.shortest_path_length(G_nx, source=start_node_original, weight='weight')\n",
        "        dists_nx = [-1] * N_actual\n",
        "        for node, dist in dists_nx_dict.items():\n",
        "             dists_nx[node_map[node]] = dist\n",
        "        end_time = time.time()\n",
        "        if TRACK_CO2: emissions_nx = tracker_nx.stop()\n",
        "        else: emissions_nx = 0.0\n",
        "        results_data.append({\n",
        "            'Tamanho_N': N_actual, 'Algoritmo': algo_name, 'Repeticao': rep,\n",
        "            'No_Fonte': start_node, 'Tempo_s': end_time - start_time, 'CO2_Emissoes_kg': emissions_nx\n",
        "        })\n",
        "\n",
        "end_time_size = time.time() # Tempo\n",
        "print(f\"\\nColeta de dados para N={N} concluída. Total de resultados coletados até agora: {len(results_data)}\")\n",
        "print(f\"Tempo total para N={N}: {end_time_size - start_time_size:.2f} segundos\")\n",
        "\n",
        "# Salvar os resultados parciais após cada tamanho de grafo\n",
        "df_partial = pd.DataFrame(results_data)\n",
        "output_partial_filename = '/content/drive/MyDrive/Trabalho AED2 - 3pts/dijkstra_partial_results.csv'\n",
        "df_partial.to_csv(output_partial_filename, index=False)\n",
        "print(f\"Resultados parciais salvos em: {output_partial_filename}\")"
      ]
    },
    {
      "cell_type": "markdown",
      "source": [
        "#### **4. Para N = 5000**"
      ],
      "metadata": {
        "id": "oEZNgpkA6sU8"
      }
    },
    {
      "cell_type": "code",
      "execution_count": null,
      "metadata": {
        "colab": {
          "base_uri": "https://localhost:8080/"
        },
        "id": "4b1d4e02",
        "outputId": "87c1c61f-62b6-4fe5-c2cd-e2240cf78e73"
      },
      "outputs": [
        {
          "output_type": "stream",
          "name": "stdout",
          "text": [
            "\n",
            "--- Processando grafos com N=5000 nós (Repetições: 15) ---\n",
            "\n",
            "Coleta de dados para N=5000 concluída. Total de resultados coletados até agora: 964\n",
            "Tempo total para N=5000: 400.10 segundos\n",
            "Resultados parciais salvos em: /content/drive/MyDrive/Trabalho AED2 - 3pts/dijkstra_partial_results.csv\n"
          ]
        }
      ],
      "source": [
        "# Certifique-se de que results_data esteja inicializado se estiver executando pela primeira vez\n",
        "if 'results_data' not in globals():\n",
        "    results_data = []\n",
        "\n",
        "# --- Executar para N = 5000 ---\n",
        "N = 5000\n",
        "print(f\"\\n--- Processando grafos com N={N} nós (Repetições: {REPETITIONS}) ---\")\n",
        "\n",
        "start_time_size = time.time() # Capture start time for this size\n",
        "\n",
        "# A. Geração do Grafo e Lista de Adjacência\n",
        "G_nx, adj_list, N_actual, node_map = generate_weighted_graph(N, PROBABILITY)\n",
        "\n",
        "# Garante que as fontes sejam selecionadas a partir dos nós existentes (0 até N_actual - 1)\n",
        "all_nodes = list(range(N_actual))\n",
        "\n",
        "for rep in range(REPETITIONS):\n",
        "    # B. Seleção de 5 Nós de Partida Aleatórios\n",
        "    source_nodes = random.sample(all_nodes, k=NUM_SOURCES)\n",
        "\n",
        "    for start_node in source_nodes:\n",
        "        # 1. DIJKSTRA CLÁSSICO (O(V^2 + E))\n",
        "        algo_name = 'Dijkstra Clássico (V^2)'\n",
        "        tracker_classic = EmissionsTracker(output_dir=\".\", save_to_file=False, log_level=\"error\")\n",
        "        if TRACK_CO2: tracker_classic.start()\n",
        "        start_time = time.time()\n",
        "        dists_classic = dijkstrasAlgorithm_Classic(start_node, adj_list)\n",
        "        end_time = time.time()\n",
        "        if TRACK_CO2: emissions_classic = tracker_classic.stop()\n",
        "        else: emissions_classic = 0.0\n",
        "        results_data.append({\n",
        "            'Tamanho_N': N_actual, 'Algoritmo': algo_name, 'Repeticao': rep,\n",
        "            'No_Fonte': start_node, 'Tempo_s': end_time - start_time, 'CO2_Emissoes_kg': emissions_classic\n",
        "        })\n",
        "\n",
        "        # 2. DIJKSTRA COM MIN-HEAP (O((V+E) log V))\n",
        "        algo_name = 'Dijkstra Min-Heap ((V+E)logV)'\n",
        "        tracker_heap = EmissionsTracker(output_dir=\".\", save_to_file=False, log_level=\"error\")\n",
        "        if TRACK_CO2: tracker_heap.start()\n",
        "        start_time = time.time()\n",
        "        dists_heap = dijkstrasAlgorithm_MinHeap(start_node, adj_list)\n",
        "        end_time = time.time()\n",
        "        if TRACK_CO2: emissions_heap = tracker_heap.stop()\n",
        "        else: emissions_heap = 0.0\n",
        "        results_data.append({\n",
        "            'Tamanho_N': N_actual, 'Algoritmo': algo_name, 'Repeticao': rep,\n",
        "            'No_Fonte': start_node, 'Tempo_s': end_time - start_time, 'CO2_Emissoes_kg': emissions_heap\n",
        "        })\n",
        "\n",
        "        # 3. REFERÊNCIA NETWORKX\n",
        "        algo_name = 'NetworkX (Referência)'\n",
        "        start_node_original = [k for k, v in node_map.items() if v == start_node][0]\n",
        "        tracker_nx = EmissionsTracker(output_dir=\".\", save_to_file=False, log_level=\"error\")\n",
        "        if TRACK_CO2: tracker_nx.start()\n",
        "        start_time = time.time()\n",
        "        dists_nx_dict = nx.shortest_path_length(G_nx, source=start_node_original, weight='weight')\n",
        "        dists_nx = [-1] * N_actual\n",
        "        for node, dist in dists_nx_dict.items():\n",
        "             dists_nx[node_map[node]] = dist\n",
        "        end_time = time.time()\n",
        "        if TRACK_CO2: emissions_nx = tracker_nx.stop()\n",
        "        else: emissions_nx = 0.0\n",
        "        results_data.append({\n",
        "            'Tamanho_N': N_actual, 'Algoritmo': algo_name, 'Repeticao': rep,\n",
        "            'No_Fonte': start_node, 'Tempo_s': end_time - start_time, 'CO2_Emissoes_kg': emissions_nx\n",
        "        })\n",
        "\n",
        "end_time_size = time.time() # Tempo\n",
        "print(f\"\\nColeta de dados para N={N} concluída. Total de resultados coletados até agora: {len(results_data)}\")\n",
        "print(f\"Tempo total para N={N}: {end_time_size - start_time_size:.2f} segundos\")\n",
        "\n",
        "# Salvar os resultados parciais após cada tamanho de grafo\n",
        "df_partial = pd.DataFrame(results_data)\n",
        "output_partial_filename = '/content/drive/MyDrive/Trabalho AED2 - 3pts/dijkstra_partial_results.csv'\n",
        "df_partial.to_csv(output_partial_filename, index=False)\n",
        "print(f\"Resultados parciais salvos em: {output_partial_filename}\")"
      ]
    },
    {
      "cell_type": "markdown",
      "source": [
        "#### **5. Para N = 10000**"
      ],
      "metadata": {
        "id": "diNoQYTg6wQJ"
      }
    },
    {
      "cell_type": "code",
      "execution_count": null,
      "metadata": {
        "colab": {
          "base_uri": "https://localhost:8080/"
        },
        "id": "26a47d4a",
        "outputId": "52e06711-14b0-4363-ac7e-1e6fda3783a5"
      },
      "outputs": [
        {
          "output_type": "stream",
          "name": "stdout",
          "text": [
            "\n",
            "--- Processando grafos com N=10000 nós (Repetições: 15) ---\n",
            "\n",
            "Coleta de dados para N=10000 concluída. Total de resultados coletados até agora: 1189\n",
            "Tempo total para N=10000: 727.00 segundos\n",
            "Resultados parciais salvos em: /content/drive/MyDrive/Trabalho AED2 - 3pts/dijkstra_partial_results.csv\n"
          ]
        }
      ],
      "source": [
        "# Certifique-se de que results_data esteja inicializado se estiver executando pela primeira vez\n",
        "if 'results_data' not in globals():\n",
        "    results_data = []\n",
        "\n",
        "# --- Executar para N = 10000 ---\n",
        "N = 10000\n",
        "print(f\"\\n--- Processando grafos com N={N} nós (Repetições: {REPETITIONS}) ---\")\n",
        "\n",
        "start_time_size = time.time() # Capture start time for this size\n",
        "\n",
        "# A. Geração do Grafo e Lista de Adjacência\n",
        "G_nx, adj_list, N_actual, node_map = generate_weighted_graph(N, PROBABILITY)\n",
        "\n",
        "# Garante que as fontes sejam selecionadas a partir dos nós existentes (0 até N_actual - 1)\n",
        "all_nodes = list(range(N_actual))\n",
        "\n",
        "for rep in range(REPETITIONS):\n",
        "    # B. Seleção de 5 Nós de Partida Aleatórios\n",
        "    source_nodes = random.sample(all_nodes, k=NUM_SOURCES)\n",
        "\n",
        "    for start_node in source_nodes:\n",
        "        # 1. DIJKSTRA CLÁSSICO (O(V^2 + E))\n",
        "        algo_name = 'Dijkstra Clássico (V^2)'\n",
        "        tracker_classic = EmissionsTracker(output_dir=\".\", save_to_file=False, log_level=\"error\")\n",
        "        if TRACK_CO2: tracker_classic.start()\n",
        "        start_time = time.time()\n",
        "        dists_classic = dijkstrasAlgorithm_Classic(start_node, adj_list)\n",
        "        end_time = time.time()\n",
        "        if TRACK_CO2: emissions_classic = tracker_classic.stop()\n",
        "        else: emissions_classic = 0.0\n",
        "        results_data.append({\n",
        "            'Tamanho_N': N_actual, 'Algoritmo': algo_name, 'Repeticao': rep,\n",
        "            'No_Fonte': start_node, 'Tempo_s': end_time - start_time, 'CO2_Emissoes_kg': emissions_classic\n",
        "        })\n",
        "\n",
        "        # 2. DIJKSTRA COM MIN-HEAP (O((V+E) log V))\n",
        "        algo_name = 'Dijkstra Min-Heap ((V+E)logV)'\n",
        "        tracker_heap = EmissionsTracker(output_dir=\".\", save_to_file=False, log_level=\"error\")\n",
        "        if TRACK_CO2: tracker_heap.start()\n",
        "        start_time = time.time()\n",
        "        dists_heap = dijkstrasAlgorithm_MinHeap(start_node, adj_list)\n",
        "        end_time = time.time()\n",
        "        if TRACK_CO2: emissions_heap = tracker_heap.stop()\n",
        "        else: emissions_heap = 0.0\n",
        "        results_data.append({\n",
        "            'Tamanho_N': N_actual, 'Algoritmo': algo_name, 'Repeticao': rep,\n",
        "            'No_Fonte': start_node, 'Tempo_s': end_time - start_time, 'CO2_Emissoes_kg': emissions_heap\n",
        "        })\n",
        "\n",
        "        # 3. REFERÊNCIA NETWORKX\n",
        "        algo_name = 'NetworkX (Referência)'\n",
        "        start_node_original = [k for k, v in node_map.items() if v == start_node][0]\n",
        "        tracker_nx = EmissionsTracker(output_dir=\".\", save_to_file=False, log_level=\"error\")\n",
        "        if TRACK_CO2: tracker_nx.start()\n",
        "        start_time = time.time()\n",
        "        dists_nx_dict = nx.shortest_path_length(G_nx, source=start_node_original, weight='weight')\n",
        "        dists_nx = [-1] * N_actual\n",
        "        for node, dist in dists_nx_dict.items():\n",
        "             dists_nx[node_map[node]] = dist\n",
        "        end_time = time.time()\n",
        "        if TRACK_CO2: emissions_nx = tracker_nx.stop()\n",
        "        else: emissions_nx = 0.0\n",
        "        results_data.append({\n",
        "            'Tamanho_N': N_actual, 'Algoritmo': algo_name, 'Repeticao': rep,\n",
        "            'No_Fonte': start_node, 'Tempo_s': end_time - start_time, 'CO2_Emissoes_kg': emissions_nx\n",
        "        })\n",
        "\n",
        "end_time_size = time.time() # Tempo\n",
        "print(f\"\\nColeta de dados para N={N} concluída. Total de resultados coletados até agora: {len(results_data)}\")\n",
        "print(f\"Tempo total para N={N}: {end_time_size - start_time_size:.2f} segundos\")\n",
        "\n",
        "# Salvar os resultados parciais após cada tamanho de grafo\n",
        "df_partial = pd.DataFrame(results_data)\n",
        "output_partial_filename = '/content/drive/MyDrive/Trabalho AED2 - 3pts/dijkstra_partial_results.csv'\n",
        "df_partial.to_csv(output_partial_filename, index=False)\n",
        "print(f\"Resultados parciais salvos em: {output_partial_filename}\")"
      ]
    },
    {
      "cell_type": "markdown",
      "source": [
        "#### **6. Para N = 50000**"
      ],
      "metadata": {
        "id": "HaQsLUs764Qc"
      }
    },
    {
      "cell_type": "code",
      "execution_count": null,
      "metadata": {
        "colab": {
          "base_uri": "https://localhost:8080/"
        },
        "id": "b6705d9c",
        "outputId": "19d856a8-4270-48bc-8c05-87a20f64e14a"
      },
      "outputs": [
        {
          "output_type": "stream",
          "name": "stdout",
          "text": [
            "\n",
            "--- Processando grafos com N=50000 nós (Repetições: 15) ---\n",
            "\n",
            "Coleta de dados para N=50000 concluída. Total de resultados coletados até agora: 1414\n",
            "Tempo total para N=50000: 11492.87 segundos\n",
            "Resultados parciais salvos em: /content/drive/MyDrive/Trabalho AED2 - 3pts/dijkstra_partial_results.csv\n"
          ]
        }
      ],
      "source": [
        "# Certifique-se de que results_data esteja inicializado se estiver executando pela primeira vez\n",
        "if 'results_data' not in globals():\n",
        "    results_data = []\n",
        "\n",
        "# --- Executar para N = 50000 ---\n",
        "N = 50000\n",
        "print(f\"\\n--- Processando grafos com N={N} nós (Repetições: {REPETITIONS}) ---\")\n",
        "\n",
        "start_time_size = time.time() # Capture start time for this size\n",
        "\n",
        "# A. Geração do Grafo e Lista de Adjacência\n",
        "G_nx, adj_list, N_actual, node_map = generate_weighted_graph(N, PROBABILITY)\n",
        "\n",
        "# Garante que as fontes sejam selecionadas a partir dos nós existentes (0 até N_actual - 1)\n",
        "all_nodes = list(range(N_actual))\n",
        "\n",
        "for rep in range(REPETITIONS):\n",
        "    # B. Seleção de 5 Nós de Partida Aleatórios\n",
        "    source_nodes = random.sample(all_nodes, k=NUM_SOURCES)\n",
        "\n",
        "    for start_node in source_nodes:\n",
        "        # 1. DIJKSTRA CLÁSSICO (O(V^2 + E))\n",
        "        algo_name = 'Dijkstra Clássico (V^2)'\n",
        "        tracker_classic = EmissionsTracker(output_dir=\".\", save_to_file=False, log_level=\"error\")\n",
        "        if TRACK_CO2: tracker_classic.start()\n",
        "        start_time = time.time()\n",
        "        dists_classic = dijkstrasAlgorithm_Classic(start_node, adj_list)\n",
        "        end_time = time.time()\n",
        "        if TRACK_CO2: emissions_classic = tracker_classic.stop()\n",
        "        else: emissions_classic = 0.0\n",
        "        results_data.append({\n",
        "            'Tamanho_N': N_actual, 'Algoritmo': algo_name, 'Repeticao': rep,\n",
        "            'No_Fonte': start_node, 'Tempo_s': end_time - start_time, 'CO2_Emissoes_kg': emissions_classic\n",
        "        })\n",
        "\n",
        "        # 2. DIJKSTRA COM MIN-HEAP (O((V+E) log V))\n",
        "        algo_name = 'Dijkstra Min-Heap ((V+E)logV)'\n",
        "        tracker_heap = EmissionsTracker(output_dir=\".\", save_to_file=False, log_level=\"error\")\n",
        "        if TRACK_CO2: tracker_heap.start()\n",
        "        start_time = time.time()\n",
        "        dists_heap = dijkstrasAlgorithm_MinHeap(start_node, adj_list)\n",
        "        end_time = time.time()\n",
        "        if TRACK_CO2: emissions_heap = tracker_heap.stop()\n",
        "        else: emissions_heap = 0.0\n",
        "        results_data.append({\n",
        "            'Tamanho_N': N_actual, 'Algoritmo': algo_name, 'Repeticao': rep,\n",
        "            'No_Fonte': start_node, 'Tempo_s': end_time - start_time, 'CO2_Emissoes_kg': emissions_heap\n",
        "        })\n",
        "\n",
        "        # 3. REFERÊNCIA NETWORKX\n",
        "        algo_name = 'NetworkX (Referência)'\n",
        "        start_node_original = [k for k, v in node_map.items() if v == start_node][0]\n",
        "        tracker_nx = EmissionsTracker(output_dir=\".\", save_to_file=False, log_level=\"error\")\n",
        "        if TRACK_CO2: tracker_nx.start()\n",
        "        start_time = time.time()\n",
        "        dists_nx_dict = nx.shortest_path_length(G_nx, source=start_node_original, weight='weight')\n",
        "        dists_nx = [-1] * N_actual\n",
        "        for node, dist in dists_nx_dict.items():\n",
        "             dists_nx[node_map[node]] = dist\n",
        "        end_time = time.time()\n",
        "        if TRACK_CO2: emissions_nx = tracker_nx.stop()\n",
        "        else: emissions_nx = 0.0\n",
        "        results_data.append({\n",
        "            'Tamanho_N': N_actual, 'Algoritmo': algo_name, 'Repeticao': rep,\n",
        "            'No_Fonte': start_node, 'Tempo_s': end_time - start_time, 'CO2_Emissoes_kg': emissions_nx\n",
        "        })\n",
        "\n",
        "end_time_size = time.time() # Tempo\n",
        "print(f\"\\nColeta de dados para N={N} concluída. Total de resultados coletados até agora: {len(results_data)}\")\n",
        "print(f\"Tempo total para N={N}: {end_time_size - start_time_size:.2f} segundos\")\n",
        "\n",
        "# Salvar os resultados parciais após cada tamanho de grafo\n",
        "df_partial = pd.DataFrame(results_data)\n",
        "output_partial_filename = '/content/drive/MyDrive/Trabalho AED2 - 3pts/dijkstra_partial_results.csv'\n",
        "df_partial.to_csv(output_partial_filename, index=False)\n",
        "print(f\"Resultados parciais salvos em: {output_partial_filename}\")"
      ]
    },
    {
      "cell_type": "markdown",
      "source": [
        "#### **7. Para N = 100000**\n",
        "***OBS:** Vai dar problema de execução devido ao tempo e o alto consumo de memória*"
      ],
      "metadata": {
        "id": "FQ7o24ij69t_"
      }
    },
    {
      "cell_type": "code",
      "execution_count": null,
      "metadata": {
        "id": "97995513",
        "colab": {
          "base_uri": "https://localhost:8080/"
        },
        "outputId": "0053f224-6755-44a5-84a4-b5f6a556c662"
      },
      "outputs": [
        {
          "output_type": "stream",
          "name": "stdout",
          "text": [
            "\n",
            "--- Processando grafos com N=100000 nós (Repetições: 15) ---\n"
          ]
        }
      ],
      "source": [
        "# Certifique-se de que results_data esteja inicializado se estiver executando pela primeira vez\n",
        "#if 'results_data' not in globals():\n",
        "#    results_data = []\n",
        "\n",
        "# --- Executar para N = 100000 ---\n",
        "# Observe que este tamanho pode levar um tempo considerável para executar.\n",
        "#N = 100000\n",
        "#print(f\"\\n--- Processando grafos com N={N} nós (Repetições: {REPETITIONS}) ---\")\n",
        "\n",
        "#start_time_size = time.time() # Capture start time for this size\n",
        "\n",
        "# A. Geração do Grafo e Lista de Adjacência\n",
        "#G_nx, adj_list, N_actual, node_map = generate_weighted_graph(N, PROBABILITY)\n",
        "\n",
        "# Garante que as fontes sejam selecionadas a partir dos nós existentes (0 até N_actual - 1)\n",
        "#all_nodes = list(range(N_actual))\n",
        "\n",
        "#for rep in range(REPETITIONS):\n",
        "    # B. Seleção de 5 Nós de Partida Aleatórios\n",
        "#    source_nodes = random.sample(all_nodes, k=NUM_SOURCES)\n",
        "\n",
        "#    for start_node in source_nodes:\n",
        "#        # 1. DIJKSTRA CLÁSSICO (O(V^2 + E))\n",
        "#        algo_name = 'Dijkstra Clássico (V^2)'\n",
        "#        tracker_classic = EmissionsTracker(output_dir=\".\", save_to_file=False, log_level=\"error\")\n",
        "#        if TRACK_CO2: tracker_classic.start()\n",
        "#        start_time = time.time()\n",
        "#        dists_classic = dijkstrasAlgorithm_Classic(start_node, adj_list)\n",
        "#        end_time = time.time()\n",
        "#        if TRACK_CO2: emissions_classic = tracker_classic.stop()\n",
        "#        else: emissions_classic = 0.0\n",
        "#        results_data.append({\n",
        "#            'Tamanho_N': N_actual, 'Algoritmo': algo_name, 'Repeticao': rep,\n",
        "#            'No_Fonte': start_node, 'Tempo_s': end_time - start_time, 'CO2_Emissoes_kg': emissions_classic\n",
        "#        })\n",
        "\n",
        "        # 2. DIJKSTRA COM MIN-HEAP (O((V+E) log V))\n",
        "#        algo_name = 'Dijkstra Min-Heap ((V+E)logV)'\n",
        "#        tracker_heap = EmissionsTracker(output_dir=\".\", save_to_file=False, log_level=\"error\")\n",
        "#        if TRACK_CO2: tracker_heap.start()\n",
        "#        start_time = time.time()\n",
        "#        dists_heap = dijkstrasAlgorithm_MinHeap(start_node, adj_list)\n",
        "#        end_time = time.time()\n",
        "#        if TRACK_CO2: emissions_heap = tracker_heap.stop()\n",
        "#        else: emissions_heap = 0.0\n",
        "#        results_data.append({\n",
        "#            'Tamanho_N': N_actual, 'Algoritmo': algo_name, 'Repeticao': rep,\n",
        "#            'No_Fonte': start_node, 'Tempo_s': end_time - start_time, 'CO2_Emissoes_kg': emissions_heap\n",
        "#        })\n",
        "\n",
        "        # 3. REFERÊNCIA NETWORKX\n",
        "#        algo_name = 'NetworkX (Referência)'\n",
        "#        start_node_original = [k for k, v in node_map.items() if v == start_node][0]\n",
        "#        tracker_nx = EmissionsTracker(output_dir=\".\", save_to_file=False, log_level=\"error\")\n",
        "#        if TRACK_CO2: tracker_nx.start()\n",
        "#        start_time = time.time()\n",
        "#        dists_nx_dict = nx.shortest_path_length(G_nx, source=start_node_original, weight='weight')\n",
        "#        dists_nx = [-1] * N_actual\n",
        "#        for node, dist in dists_nx_dict.items():\n",
        "#             dists_nx[node_map[node]] = dist\n",
        "#        end_time = time.time()\n",
        "#        if TRACK_CO2: emissions_nx = tracker_nx.stop()\n",
        "#        else: emissions_nx = 0.0\n",
        "#        results_data.append({\n",
        "#            'Tamanho_N': N_actual, 'Algoritmo': algo_name, 'Repeticao': rep,\n",
        "#            'No_Fonte': start_node, 'Tempo_s': end_time - start_time, 'CO2_Emissoes_kg': emissions_nx\n",
        "#        })\n",
        "\n",
        "#end_time_size = time.time() # Tempo\n",
        "#print(f\"\\nColeta de dados para N={N} concluída. Total de resultados coletados até agora: {len(results_data)}\")\n",
        "#print(f\"Tempo total para N={N}: {end_time_size - start_time_size:.2f} segundos\")\n",
        "\n",
        "# Salvar os resultados parciais após cada tamanho de grafo\n",
        "#df_partial = pd.DataFrame(results_data)\n",
        "#output_partial_filename = '/content/drive/MyDrive/Trabalho AED2 - 3pts/dijkstra_partial_results.csv'\n",
        "#df_partial.to_csv(output_partial_filename, index=False)\n",
        "#print(f\"Resultados parciais salvos em: {output_partial_filename}\")"
      ]
    },
    {
      "cell_type": "markdown",
      "source": [
        "## Tratamento do Arquivo `.CSV` gerado"
      ],
      "metadata": {
        "id": "uWta7Wie-Nnp"
      }
    },
    {
      "cell_type": "markdown",
      "metadata": {
        "id": "5d50bf5e"
      },
      "source": [
        "O arquivo `dijkstra_partial_results.csv` é a base de dados completa e bruta com todos os resultados registrados de cada teste individual realizado para os diferentes tamanhos de grafo e algoritmos.\n",
        "\n",
        "Esta seção foca no tratamento e carregamento inicial desses dados. A célula de código abaixo lê este arquivo CSV, exibindo o total de registros coletados e as primeiras linhas para inspeção. Com base neste DataFrame, podemos iniciar as primeiras análises estatísticas e obter impressões preliminares sobre o desempenho de cada algoritmo em diferentes tamanhos."
      ]
    },
    {
      "cell_type": "code",
      "execution_count": null,
      "metadata": {
        "id": "zeVT0fudCKbC",
        "colab": {
          "base_uri": "https://localhost:8080/"
        },
        "outputId": "ebbf94d3-9c10-4e51-aa47-6e4d4e87949e"
      },
      "outputs": [
        {
          "output_type": "stream",
          "name": "stdout",
          "text": [
            "Dados carregados com sucesso do arquivo: dijkstra_partial_results.csv\n",
            "Total de registros de execução: 1414\n",
            "\n",
            "Primeiras linhas dos resultados:\n",
            "   Tamanho_N                      Algoritmo  Repeticao  No_Fonte   Tempo_s  \\\n",
            "0         19        Dijkstra Clássico (V^2)          0        17  0.000044   \n",
            "1         19  Dijkstra Min-Heap ((V+E)logV)          0        17  0.000108   \n",
            "2         19          NetworkX (Referência)          0        17  0.001353   \n",
            "3         19        Dijkstra Clássico (V^2)          0         4  0.000069   \n",
            "4         19  Dijkstra Min-Heap ((V+E)logV)          0         4  0.000104   \n",
            "5         19          NetworkX (Referência)          0         4  0.000174   \n",
            "6         19        Dijkstra Clássico (V^2)          0         1  0.000076   \n",
            "7         19  Dijkstra Min-Heap ((V+E)logV)          0         1  0.000102   \n",
            "8         19          NetworkX (Referência)          0         1  0.000216   \n",
            "9         19        Dijkstra Clássico (V^2)          0        10  0.000042   \n",
            "\n",
            "   CO2_Emissoes_kg  \n",
            "0     3.384044e-09  \n",
            "1     3.528197e-08  \n",
            "2     1.769670e-08  \n",
            "3     4.190678e-08  \n",
            "4     3.138990e-08  \n",
            "5     2.966487e-09  \n",
            "6     1.142356e-08  \n",
            "7     2.930584e-09  \n",
            "8     6.588887e-09  \n",
            "9     2.458036e-09  \n",
            "\n",
            "Estatísticas Preliminares (Tempo Médio por Tamanho/Algoritmo):\n",
            "                                               mean        std\n",
            "Tamanho_N Algoritmo                                           \n",
            "17        Dijkstra Clássico (V^2)          0.000041   0.000010\n",
            "          Dijkstra Min-Heap ((V+E)logV)    0.000065   0.000017\n",
            "          NetworkX (Referência)            0.000141   0.000021\n",
            "19        Dijkstra Clássico (V^2)          0.000047   0.000012\n",
            "          Dijkstra Min-Heap ((V+E)logV)    0.000072   0.000017\n",
            "          NetworkX (Referência)            0.000259   0.000286\n",
            "497       Dijkstra Clássico (V^2)          0.001421   0.002051\n",
            "          Dijkstra Min-Heap ((V+E)logV)    0.000795   0.000339\n",
            "          NetworkX (Referência)            0.002546   0.001119\n",
            "1000      Dijkstra Clássico (V^2)          0.021720   0.023490\n",
            "          Dijkstra Min-Heap ((V+E)logV)    0.002546   0.001450\n",
            "          NetworkX (Referência)            0.007522   0.001937\n",
            "5000      Dijkstra Clássico (V^2)          0.996384   0.825201\n",
            "          Dijkstra Min-Heap ((V+E)logV)    0.031514   0.025463\n",
            "          NetworkX (Referência)            0.167773   0.041298\n",
            "10000     Dijkstra Clássico (V^2)          4.635076   2.665729\n",
            "          Dijkstra Min-Heap ((V+E)logV)    0.090822   0.053050\n",
            "          NetworkX (Referência)            0.677998   0.152813\n",
            "50000     Dijkstra Clássico (V^2)        122.789473  77.884429\n",
            "          Dijkstra Min-Heap ((V+E)logV)    0.994985   0.913907\n",
            "          NetworkX (Referência)           19.091260   0.990229\n"
          ]
        }
      ],
      "source": [
        "import pandas as pd\n",
        "import os\n",
        "\n",
        "# Define o caminho para o arquivo CSV no Google Drive\n",
        "output_filename = '/content/drive/MyDrive/Trabalho AED2 - 3pts/dijkstra_partial_results.csv'\n",
        "\n",
        "# Verifica se o arquivo existe antes de tentar ler\n",
        "if os.path.exists(output_filename):\n",
        "    # Cria o DataFrame a partir dos dados salvos no arquivo CSV\n",
        "    df_results = pd.read_csv(output_filename)\n",
        "    # Modificado para corresponder ao formato solicitado pelo usuário\n",
        "    print(f\"Dados carregados com sucesso do arquivo: {os.path.basename(output_filename)}\")\n",
        "    print(f\"Total de registros de execução: {len(df_results)}\")\n",
        "\n",
        "    # Exibe as primeiras linhas do DataFrame para inspeção\n",
        "    print(\"\\nPrimeiras linhas dos resultados:\")\n",
        "    print(df_results.head(10))\n",
        "\n",
        "    # Informações estatísticas preliminares (para a próxima fase de análise)\n",
        "    print(\"\\nEstatísticas Preliminares (Tempo Médio por Tamanho/Algoritmo):\")\n",
        "    summary = df_results.groupby(['Tamanho_N', 'Algoritmo'])['Tempo_s'].agg(['mean', 'std'])\n",
        "    print(summary)\n",
        "else:\n",
        "    print(f\"Erro: O arquivo {output_filename} não foi encontrado.\")"
      ]
    },
    {
      "cell_type": "markdown",
      "metadata": {
        "id": "0ff2565a"
      },
      "source": [
        "## Análise e Resumo Estátistico\n",
        "\n",
        "Nesse trecho, pegamos os dados brutos de todas as execuções, agrupamos por tamanho do grafo e algoritmo, calculamos as médias, desvios-padrão e a margem do intervalo de confiança para o tempo e as emissões de CO₂. O resultado é salvo em um arquivo CSV de resumo `dijkstra_analysis_summary.csv`"
      ]
    },
    {
      "cell_type": "code",
      "metadata": {
        "colab": {
          "base_uri": "https://localhost:8080/"
        },
        "id": "9c96938b",
        "outputId": "ee49ede0-e52d-4283-914b-e41d4ff4bae1"
      },
      "source": [
        "import scipy.stats # Importar especificamente o módulo stats\n",
        "\n",
        "# 1. Agregação de Médias e Desvios-Padrão\n",
        "df_summary = df_results.groupby(['Tamanho_N', 'Algoritmo']).agg(\n",
        "    mean_time=('Tempo_s', 'mean'),\n",
        "    std_time=('Tempo_s', 'std'),\n",
        "    mean_co2=('CO2_Emissoes_kg', 'mean'),\n",
        "    std_co2=('CO2_Emissoes_kg', 'std'),\n",
        "    count=('Tempo_s', 'count')\n",
        ").reset_index()\n",
        "\n",
        "# 2. Cálculo dos Intervalos de Confiança (95% de confiança)\n",
        "# Usaremos o Intervalo de Confiança (IC) para a Média.\n",
        "# IC = Média +/- (t_score * Desvio_Padrão / sqrt(N))\n",
        "# Para N > 30, o t_score é próximo de 1.96.\n",
        "# Como o projeto exige 15-20 repetições, usamos a distribuição t de Student.\n",
        "\n",
        "confidence_level = 0.95\n",
        "\n",
        "def calculate_ci_margin(row):\n",
        "    \"\"\"Calcula a margem de erro para um dado nível de confiança.\"\"\"\n",
        "    if row['count'] < 2:\n",
        "        return 0.0, 0.0 # Retorna 0.0 para ambos se count < 2 para evitar erros\n",
        "\n",
        "    # Graus de liberdade\n",
        "    df = row['count'] - 1\n",
        "    # Valor T para 95% de confiança\n",
        "    t_score = scipy.stats.t.ppf(1 - (1 - confidence_level) / 2, df)\n",
        "\n",
        "    # Margem de Erro\n",
        "    margin_time = t_score * row['std_time'] / np.sqrt(row['count'])\n",
        "    margin_co2 = t_score * row['std_co2'] / np.sqrt(row['count'])\n",
        "\n",
        "    return margin_time, margin_co2\n",
        "\n",
        "# Aplica o cálculo e cria novas colunas para a margem de erro\n",
        "df_summary[['ci_margin_time', 'ci_margin_co2']] = df_summary.apply(\n",
        "    lambda row: pd.Series(calculate_ci_margin(row)), axis=1\n",
        ")\n",
        "\n",
        "# 3. Salva a tabela de análise consolidada (Entregável CSV)\n",
        "# Define o caminho para o arquivo CSV no Google Drive\n",
        "analysis_filename = '/content/drive/MyDrive/Trabalho AED2 - 3pts/dijkstra_analysis_summary.csv'\n",
        "df_summary.to_csv(analysis_filename, index=False)\n",
        "print(f\"\\nTabela de Análise Estatística salva em: {analysis_filename}\")\n",
        "\n",
        "print(\"\\nResumo Estatístico (Tempo e CO2 Médios):\")\n",
        "print(df_summary[['Tamanho_N', 'Algoritmo', 'mean_time', 'std_time', 'ci_margin_time']].head(9))"
      ],
      "execution_count": null,
      "outputs": [
        {
          "output_type": "stream",
          "name": "stdout",
          "text": [
            "\n",
            "Tabela de Análise Estatística salva em: /content/drive/MyDrive/Trabalho AED2 - 3pts/dijkstra_analysis_summary.csv\n",
            "\n",
            "Resumo Estatístico (Tempo e CO2 Médios):\n",
            "   Tamanho_N                      Algoritmo  mean_time  std_time  \\\n",
            "0         17        Dijkstra Clássico (V^2)   0.000041  0.000010   \n",
            "1         17  Dijkstra Min-Heap ((V+E)logV)   0.000065  0.000017   \n",
            "2         17          NetworkX (Referência)   0.000141  0.000021   \n",
            "3         19        Dijkstra Clássico (V^2)   0.000047  0.000012   \n",
            "4         19  Dijkstra Min-Heap ((V+E)logV)   0.000072  0.000017   \n",
            "5         19          NetworkX (Referência)   0.000259  0.000286   \n",
            "6        497        Dijkstra Clássico (V^2)   0.001421  0.002051   \n",
            "7        497  Dijkstra Min-Heap ((V+E)logV)   0.000795  0.000339   \n",
            "8        497          NetworkX (Referência)   0.002546  0.001119   \n",
            "\n",
            "   ci_margin_time  \n",
            "0        0.000002  \n",
            "1        0.000004  \n",
            "2        0.000005  \n",
            "3        0.000005  \n",
            "4        0.000008  \n",
            "5        0.000130  \n",
            "6        0.000472  \n",
            "7        0.000078  \n",
            "8        0.000257  \n"
          ]
        }
      ]
    },
    {
      "cell_type": "markdown",
      "source": [
        "## Gráficos\n",
        "\n",
        "Agora, vamos gerar os gráficos para visualizar a comparação de desempenho e emissões de CO₂ dos algoritmos."
      ],
      "metadata": {
        "id": "USHm8TUJDUEJ"
      }
    },
    {
      "cell_type": "markdown",
      "metadata": {
        "id": "8ddc9cea"
      },
      "source": [
        "#### **Visualização: Comparação de Tempo Médio de Execução por Tamanho do Grafo**"
      ]
    },
    {
      "cell_type": "code",
      "metadata": {
        "colab": {
          "base_uri": "https://localhost:8080/",
          "height": 597
        },
        "id": "ff8322a8",
        "outputId": "01623dbb-2f93-49f8-e582-c0103cd50974"
      },
      "source": [
        "import plotly.express as px\n",
        "import plotly.graph_objects as go\n",
        "\n",
        "# Certifique-se de que a coluna Tamanho_N seja numérica para o Plotly\n",
        "df_summary['Tamanho_N'] = pd.to_numeric(df_summary['Tamanho_N'])\n",
        "\n",
        "# Gráfico Interativo de Tempo Médio de Execução vs. Tamanho do Grafo (Plotly)\n",
        "fig_time_plotly = px.line(df_summary,\n",
        "                          x='Tamanho_N',\n",
        "                          y='mean_time',\n",
        "                          color='Algoritmo',\n",
        "                          log_x=True,\n",
        "                          log_y=True,\n",
        "                          markers=True,\n",
        "                          # Adiciona barras de erro usando a margem do intervalo de confiança\n",
        "                          error_y='ci_margin_time',\n",
        "                          title='Comparação de Tempo Médio de Execução por Tamanho do Grafo')\n",
        "\n",
        "\n",
        "fig_time_plotly.update_layout(\n",
        "    xaxis_title='Tamanho do Grafo (N - escala logarítmica)',\n",
        "    yaxis_title='Tempo Médio de Execução (s - escala logarítmica)',\n",
        "    hovermode='x unified' # Melhora a interatividade ao passar o mouse\n",
        ")\n",
        "\n",
        "fig_time_plotly.show()\n",
        "\n",
        "# Salvar o gráfico interativo como HTML (opcional)\n",
        "output_plot_time_plotly = '/content/drive/MyDrive/Trabalho AED2 - 3pts/tempo_medio_comparacao_plotly.html'\n",
        "fig_time_plotly.write_html(output_plot_time_plotly)\n",
        "print(f\"\\nGráfico Interativo de Tempo Médio salvo em: {output_plot_time_plotly}\")"
      ],
      "execution_count": null,
      "outputs": [
        {
          "output_type": "display_data",
          "data": {
            "text/html": [
              "<html>\n",
              "<head><meta charset=\"utf-8\" /></head>\n",
              "<body>\n",
              "    <div>            <script src=\"https://cdnjs.cloudflare.com/ajax/libs/mathjax/2.7.5/MathJax.js?config=TeX-AMS-MML_SVG\"></script><script type=\"text/javascript\">if (window.MathJax && window.MathJax.Hub && window.MathJax.Hub.Config) {window.MathJax.Hub.Config({SVG: {font: \"STIX-Web\"}});}</script>                <script type=\"text/javascript\">window.PlotlyConfig = {MathJaxConfig: 'local'};</script>\n",
              "        <script charset=\"utf-8\" src=\"https://cdn.plot.ly/plotly-2.35.2.min.js\"></script>                <div id=\"9fb050f5-c885-4d11-9189-2ab501cf9655\" class=\"plotly-graph-div\" style=\"height:525px; width:100%;\"></div>            <script type=\"text/javascript\">                                    window.PLOTLYENV=window.PLOTLYENV || {};                                    if (document.getElementById(\"9fb050f5-c885-4d11-9189-2ab501cf9655\")) {                    Plotly.newPlot(                        \"9fb050f5-c885-4d11-9189-2ab501cf9655\",                        [{\"error_y\":{\"array\":[2.3081351761714764e-6,5.258773108482974e-6,0.0004718480013179069,0.005404606297593887,0.18986158508038006,0.6133286327123757,17.919579781658328]},\"hovertemplate\":\"Algoritmo=Dijkstra Clássico (V^2)\\u003cbr\\u003eTamanho_N=%{x}\\u003cbr\\u003emean_time=%{y}\\u003cextra\\u003e\\u003c\\u002fextra\\u003e\",\"legendgroup\":\"Dijkstra Clássico (V^2)\",\"line\":{\"color\":\"#636efa\",\"dash\":\"solid\"},\"marker\":{\"symbol\":\"circle\"},\"mode\":\"lines+markers\",\"name\":\"Dijkstra Clássico (V^2)\",\"orientation\":\"v\",\"showlegend\":true,\"x\":[17,19,497,1000,5000,10000,50000],\"xaxis\":\"x\",\"y\":[0.000041058858235677085,0.000047087669372558594,0.0014212322235106988,0.021719627380371042,0.9963842709859212,4.635076230367025,122.78947289784749],\"yaxis\":\"y\",\"type\":\"scatter\"},{\"error_y\":{\"array\":[3.8910469524459355e-6,7.840001185505478e-6,0.00007811007103213178,0.00033354120281889576,0.005858470942537545,0.012205686199519377,0.21027100864900414]},\"hovertemplate\":\"Algoritmo=Dijkstra Min-Heap ((V+E)logV)\\u003cbr\\u003eTamanho_N=%{x}\\u003cbr\\u003emean_time=%{y}\\u003cextra\\u003e\\u003c\\u002fextra\\u003e\",\"legendgroup\":\"Dijkstra Min-Heap ((V+E)logV)\",\"line\":{\"color\":\"#EF553B\",\"dash\":\"solid\"},\"marker\":{\"symbol\":\"circle\"},\"mode\":\"lines+markers\",\"name\":\"Dijkstra Min-Heap ((V+E)logV)\",\"orientation\":\"v\",\"showlegend\":true,\"x\":[17,19,497,1000,5000,10000,50000],\"xaxis\":\"x\",\"y\":[0.00006470362345377405,0.00007177534557523445,0.0007946650187174013,0.0025464789072672054,0.03151362419128413,0.09082194964090978,0.99498522122701],\"yaxis\":\"y\",\"type\":\"scatter\"},{\"error_y\":{\"array\":[4.8273424733674545e-6,0.0001299650231626222,0.00025741103753567247,0.00044559614327802354,0.009501710093094319,0.035159007739498774,0.22783108857848028]},\"hovertemplate\":\"Algoritmo=NetworkX (Referência)\\u003cbr\\u003eTamanho_N=%{x}\\u003cbr\\u003emean_time=%{y}\\u003cextra\\u003e\\u003c\\u002fextra\\u003e\",\"legendgroup\":\"NetworkX (Referência)\",\"line\":{\"color\":\"#00cc96\",\"dash\":\"solid\"},\"marker\":{\"symbol\":\"circle\"},\"mode\":\"lines+markers\",\"name\":\"NetworkX (Referência)\",\"orientation\":\"v\",\"showlegend\":true,\"x\":[17,19,497,1000,5000,10000,50000],\"xaxis\":\"x\",\"y\":[0.00014145215352371734,0.0002585365658714191,0.0025459798177082825,0.0075216229756672704,0.1677727635701497,0.6779983901977539,19.091260223388673],\"yaxis\":\"y\",\"type\":\"scatter\"}],                        {\"template\":{\"data\":{\"histogram2dcontour\":[{\"type\":\"histogram2dcontour\",\"colorbar\":{\"outlinewidth\":0,\"ticks\":\"\"},\"colorscale\":[[0.0,\"#0d0887\"],[0.1111111111111111,\"#46039f\"],[0.2222222222222222,\"#7201a8\"],[0.3333333333333333,\"#9c179e\"],[0.4444444444444444,\"#bd3786\"],[0.5555555555555556,\"#d8576b\"],[0.6666666666666666,\"#ed7953\"],[0.7777777777777778,\"#fb9f3a\"],[0.8888888888888888,\"#fdca26\"],[1.0,\"#f0f921\"]]}],\"choropleth\":[{\"type\":\"choropleth\",\"colorbar\":{\"outlinewidth\":0,\"ticks\":\"\"}}],\"histogram2d\":[{\"type\":\"histogram2d\",\"colorbar\":{\"outlinewidth\":0,\"ticks\":\"\"},\"colorscale\":[[0.0,\"#0d0887\"],[0.1111111111111111,\"#46039f\"],[0.2222222222222222,\"#7201a8\"],[0.3333333333333333,\"#9c179e\"],[0.4444444444444444,\"#bd3786\"],[0.5555555555555556,\"#d8576b\"],[0.6666666666666666,\"#ed7953\"],[0.7777777777777778,\"#fb9f3a\"],[0.8888888888888888,\"#fdca26\"],[1.0,\"#f0f921\"]]}],\"heatmap\":[{\"type\":\"heatmap\",\"colorbar\":{\"outlinewidth\":0,\"ticks\":\"\"},\"colorscale\":[[0.0,\"#0d0887\"],[0.1111111111111111,\"#46039f\"],[0.2222222222222222,\"#7201a8\"],[0.3333333333333333,\"#9c179e\"],[0.4444444444444444,\"#bd3786\"],[0.5555555555555556,\"#d8576b\"],[0.6666666666666666,\"#ed7953\"],[0.7777777777777778,\"#fb9f3a\"],[0.8888888888888888,\"#fdca26\"],[1.0,\"#f0f921\"]]}],\"heatmapgl\":[{\"type\":\"heatmapgl\",\"colorbar\":{\"outlinewidth\":0,\"ticks\":\"\"},\"colorscale\":[[0.0,\"#0d0887\"],[0.1111111111111111,\"#46039f\"],[0.2222222222222222,\"#7201a8\"],[0.3333333333333333,\"#9c179e\"],[0.4444444444444444,\"#bd3786\"],[0.5555555555555556,\"#d8576b\"],[0.6666666666666666,\"#ed7953\"],[0.7777777777777778,\"#fb9f3a\"],[0.8888888888888888,\"#fdca26\"],[1.0,\"#f0f921\"]]}],\"contourcarpet\":[{\"type\":\"contourcarpet\",\"colorbar\":{\"outlinewidth\":0,\"ticks\":\"\"}}],\"contour\":[{\"type\":\"contour\",\"colorbar\":{\"outlinewidth\":0,\"ticks\":\"\"},\"colorscale\":[[0.0,\"#0d0887\"],[0.1111111111111111,\"#46039f\"],[0.2222222222222222,\"#7201a8\"],[0.3333333333333333,\"#9c179e\"],[0.4444444444444444,\"#bd3786\"],[0.5555555555555556,\"#d8576b\"],[0.6666666666666666,\"#ed7953\"],[0.7777777777777778,\"#fb9f3a\"],[0.8888888888888888,\"#fdca26\"],[1.0,\"#f0f921\"]]}],\"surface\":[{\"type\":\"surface\",\"colorbar\":{\"outlinewidth\":0,\"ticks\":\"\"},\"colorscale\":[[0.0,\"#0d0887\"],[0.1111111111111111,\"#46039f\"],[0.2222222222222222,\"#7201a8\"],[0.3333333333333333,\"#9c179e\"],[0.4444444444444444,\"#bd3786\"],[0.5555555555555556,\"#d8576b\"],[0.6666666666666666,\"#ed7953\"],[0.7777777777777778,\"#fb9f3a\"],[0.8888888888888888,\"#fdca26\"],[1.0,\"#f0f921\"]]}],\"mesh3d\":[{\"type\":\"mesh3d\",\"colorbar\":{\"outlinewidth\":0,\"ticks\":\"\"}}],\"scatter\":[{\"fillpattern\":{\"fillmode\":\"overlay\",\"size\":10,\"solidity\":0.2},\"type\":\"scatter\"}],\"parcoords\":[{\"type\":\"parcoords\",\"line\":{\"colorbar\":{\"outlinewidth\":0,\"ticks\":\"\"}}}],\"scatterpolargl\":[{\"type\":\"scatterpolargl\",\"marker\":{\"colorbar\":{\"outlinewidth\":0,\"ticks\":\"\"}}}],\"bar\":[{\"error_x\":{\"color\":\"#2a3f5f\"},\"error_y\":{\"color\":\"#2a3f5f\"},\"marker\":{\"line\":{\"color\":\"#E5ECF6\",\"width\":0.5},\"pattern\":{\"fillmode\":\"overlay\",\"size\":10,\"solidity\":0.2}},\"type\":\"bar\"}],\"scattergeo\":[{\"type\":\"scattergeo\",\"marker\":{\"colorbar\":{\"outlinewidth\":0,\"ticks\":\"\"}}}],\"scatterpolar\":[{\"type\":\"scatterpolar\",\"marker\":{\"colorbar\":{\"outlinewidth\":0,\"ticks\":\"\"}}}],\"histogram\":[{\"marker\":{\"pattern\":{\"fillmode\":\"overlay\",\"size\":10,\"solidity\":0.2}},\"type\":\"histogram\"}],\"scattergl\":[{\"type\":\"scattergl\",\"marker\":{\"colorbar\":{\"outlinewidth\":0,\"ticks\":\"\"}}}],\"scatter3d\":[{\"type\":\"scatter3d\",\"line\":{\"colorbar\":{\"outlinewidth\":0,\"ticks\":\"\"}},\"marker\":{\"colorbar\":{\"outlinewidth\":0,\"ticks\":\"\"}}}],\"scattermapbox\":[{\"type\":\"scattermapbox\",\"marker\":{\"colorbar\":{\"outlinewidth\":0,\"ticks\":\"\"}}}],\"scatterternary\":[{\"type\":\"scatterternary\",\"marker\":{\"colorbar\":{\"outlinewidth\":0,\"ticks\":\"\"}}}],\"scattercarpet\":[{\"type\":\"scattercarpet\",\"marker\":{\"colorbar\":{\"outlinewidth\":0,\"ticks\":\"\"}}}],\"carpet\":[{\"aaxis\":{\"endlinecolor\":\"#2a3f5f\",\"gridcolor\":\"white\",\"linecolor\":\"white\",\"minorgridcolor\":\"white\",\"startlinecolor\":\"#2a3f5f\"},\"baxis\":{\"endlinecolor\":\"#2a3f5f\",\"gridcolor\":\"white\",\"linecolor\":\"white\",\"minorgridcolor\":\"white\",\"startlinecolor\":\"#2a3f5f\"},\"type\":\"carpet\"}],\"table\":[{\"cells\":{\"fill\":{\"color\":\"#EBF0F8\"},\"line\":{\"color\":\"white\"}},\"header\":{\"fill\":{\"color\":\"#C8D4E3\"},\"line\":{\"color\":\"white\"}},\"type\":\"table\"}],\"barpolar\":[{\"marker\":{\"line\":{\"color\":\"#E5ECF6\",\"width\":0.5},\"pattern\":{\"fillmode\":\"overlay\",\"size\":10,\"solidity\":0.2}},\"type\":\"barpolar\"}],\"pie\":[{\"automargin\":true,\"type\":\"pie\"}]},\"layout\":{\"autotypenumbers\":\"strict\",\"colorway\":[\"#636efa\",\"#EF553B\",\"#00cc96\",\"#ab63fa\",\"#FFA15A\",\"#19d3f3\",\"#FF6692\",\"#B6E880\",\"#FF97FF\",\"#FECB52\"],\"font\":{\"color\":\"#2a3f5f\"},\"hovermode\":\"closest\",\"hoverlabel\":{\"align\":\"left\"},\"paper_bgcolor\":\"white\",\"plot_bgcolor\":\"#E5ECF6\",\"polar\":{\"bgcolor\":\"#E5ECF6\",\"angularaxis\":{\"gridcolor\":\"white\",\"linecolor\":\"white\",\"ticks\":\"\"},\"radialaxis\":{\"gridcolor\":\"white\",\"linecolor\":\"white\",\"ticks\":\"\"}},\"ternary\":{\"bgcolor\":\"#E5ECF6\",\"aaxis\":{\"gridcolor\":\"white\",\"linecolor\":\"white\",\"ticks\":\"\"},\"baxis\":{\"gridcolor\":\"white\",\"linecolor\":\"white\",\"ticks\":\"\"},\"caxis\":{\"gridcolor\":\"white\",\"linecolor\":\"white\",\"ticks\":\"\"}},\"coloraxis\":{\"colorbar\":{\"outlinewidth\":0,\"ticks\":\"\"}},\"colorscale\":{\"sequential\":[[0.0,\"#0d0887\"],[0.1111111111111111,\"#46039f\"],[0.2222222222222222,\"#7201a8\"],[0.3333333333333333,\"#9c179e\"],[0.4444444444444444,\"#bd3786\"],[0.5555555555555556,\"#d8576b\"],[0.6666666666666666,\"#ed7953\"],[0.7777777777777778,\"#fb9f3a\"],[0.8888888888888888,\"#fdca26\"],[1.0,\"#f0f921\"]],\"sequentialminus\":[[0.0,\"#0d0887\"],[0.1111111111111111,\"#46039f\"],[0.2222222222222222,\"#7201a8\"],[0.3333333333333333,\"#9c179e\"],[0.4444444444444444,\"#bd3786\"],[0.5555555555555556,\"#d8576b\"],[0.6666666666666666,\"#ed7953\"],[0.7777777777777778,\"#fb9f3a\"],[0.8888888888888888,\"#fdca26\"],[1.0,\"#f0f921\"]],\"diverging\":[[0,\"#8e0152\"],[0.1,\"#c51b7d\"],[0.2,\"#de77ae\"],[0.3,\"#f1b6da\"],[0.4,\"#fde0ef\"],[0.5,\"#f7f7f7\"],[0.6,\"#e6f5d0\"],[0.7,\"#b8e186\"],[0.8,\"#7fbc41\"],[0.9,\"#4d9221\"],[1,\"#276419\"]]},\"xaxis\":{\"gridcolor\":\"white\",\"linecolor\":\"white\",\"ticks\":\"\",\"title\":{\"standoff\":15},\"zerolinecolor\":\"white\",\"automargin\":true,\"zerolinewidth\":2},\"yaxis\":{\"gridcolor\":\"white\",\"linecolor\":\"white\",\"ticks\":\"\",\"title\":{\"standoff\":15},\"zerolinecolor\":\"white\",\"automargin\":true,\"zerolinewidth\":2},\"scene\":{\"xaxis\":{\"backgroundcolor\":\"#E5ECF6\",\"gridcolor\":\"white\",\"linecolor\":\"white\",\"showbackground\":true,\"ticks\":\"\",\"zerolinecolor\":\"white\",\"gridwidth\":2},\"yaxis\":{\"backgroundcolor\":\"#E5ECF6\",\"gridcolor\":\"white\",\"linecolor\":\"white\",\"showbackground\":true,\"ticks\":\"\",\"zerolinecolor\":\"white\",\"gridwidth\":2},\"zaxis\":{\"backgroundcolor\":\"#E5ECF6\",\"gridcolor\":\"white\",\"linecolor\":\"white\",\"showbackground\":true,\"ticks\":\"\",\"zerolinecolor\":\"white\",\"gridwidth\":2}},\"shapedefaults\":{\"line\":{\"color\":\"#2a3f5f\"}},\"annotationdefaults\":{\"arrowcolor\":\"#2a3f5f\",\"arrowhead\":0,\"arrowwidth\":1},\"geo\":{\"bgcolor\":\"white\",\"landcolor\":\"#E5ECF6\",\"subunitcolor\":\"white\",\"showland\":true,\"showlakes\":true,\"lakecolor\":\"white\"},\"title\":{\"x\":0.05},\"mapbox\":{\"style\":\"light\"}}},\"xaxis\":{\"anchor\":\"y\",\"domain\":[0.0,1.0],\"title\":{\"text\":\"Tamanho do Grafo (N - escala logarítmica)\"},\"type\":\"log\"},\"yaxis\":{\"anchor\":\"x\",\"domain\":[0.0,1.0],\"title\":{\"text\":\"Tempo Médio de Execução (s - escala logarítmica)\"},\"type\":\"log\"},\"legend\":{\"title\":{\"text\":\"Algoritmo\"},\"tracegroupgap\":0},\"title\":{\"text\":\"Comparação de Tempo Médio de Execução por Tamanho do Grafo\"},\"hovermode\":\"x unified\"},                        {\"responsive\": true}                    ).then(function(){\n",
              "                            \n",
              "var gd = document.getElementById('9fb050f5-c885-4d11-9189-2ab501cf9655');\n",
              "var x = new MutationObserver(function (mutations, observer) {{\n",
              "        var display = window.getComputedStyle(gd).display;\n",
              "        if (!display || display === 'none') {{\n",
              "            console.log([gd, 'removed!']);\n",
              "            Plotly.purge(gd);\n",
              "            observer.disconnect();\n",
              "        }}\n",
              "}});\n",
              "\n",
              "// Listen for the removal of the full notebook cells\n",
              "var notebookContainer = gd.closest('#notebook-container');\n",
              "if (notebookContainer) {{\n",
              "    x.observe(notebookContainer, {childList: true});\n",
              "}}\n",
              "\n",
              "// Listen for the clearing of the current output cell\n",
              "var outputEl = gd.closest('.output');\n",
              "if (outputEl) {{\n",
              "    x.observe(outputEl, {childList: true});\n",
              "}}\n",
              "\n",
              "                        })                };                            </script>        </div>\n",
              "</body>\n",
              "</html>"
            ]
          },
          "metadata": {}
        },
        {
          "output_type": "stream",
          "name": "stdout",
          "text": [
            "\n",
            "Gráfico Interativo de Tempo Médio salvo em: /content/drive/MyDrive/Trabalho AED2 - 3pts/tempo_medio_comparacao_plotly.html\n"
          ]
        }
      ]
    },
    {
      "cell_type": "markdown",
      "source": [
        "## **Interpretação do Gráfico de Tempo Médio por Tamanho do Grafo**\n",
        "\n",
        " O gráfico mostra quanto tempo cada \"solucionador\" (algoritmo) leva para resolver o problema conforme ele fica maior.\n",
        "\n",
        " * **Dijkstra Clássico:** É método menos eficiente. No gráfico, a linha dele sobe muito rápido. Isso significa que, quando o grafo fica só um pouco maior, o tempo que ele leva para terminar \"explode\" (aumenta muito, muito rápido). É por isso que ele não conseguiu rodar para o grafo gigante de 100.000 nós.\n",
        "\n",
        "* **Dijkstra com Min-Heap:** Esta é uma versão melhorada, mais \"inteligente\". A linha dele também sobe conforme o grafo aumenta, mas de forma muito mais suave e controlada. Mesmo quando o grafo fica bem grande, o tempo que ele leva aumenta, mas não \"explode\" como o clássico. Ele lida muito melhor com problemas grandes.\n",
        "\n",
        "* **NetworkX (Referência):** A ferramenta já pronta que usamos (NetworkX) usa um método parecido com o Dijkstra com Min-Heap, por isso a linha dele se parece muito com a do Min-Heap, mostrando que também é eficiente para grafos grandes.\n",
        "\n",
        "As Barras Verticais são as barras de Erro, elas mostram o quanto os tempos de execução variaram para aquele algoritmo e tamanho de grafo específico ao longo das 15 repetições.\n",
        "\n",
        "  *   **Barras Curtas:** Significam que os tempos de execução para aquele algoritmo e tamanho foram bastante consistentes entre as repetições. A média calculada é mais \"confiável\".\n",
        "  *   **Barras Longas:** Indicam que houve uma variação maior nos tempos de execução entre as repetições. A média calculada tem uma incerteza maior associada a ela.\n",
        "  \n",
        "Observe que, especialmente para o Dijkstra Clássico em tamanhos de grafo maiores, as barras de erro podem se tornar bastante longas, refletindo a grande variabilidade e o comportamento menos previsível do algoritmo quando ele começa a ficar sobrecarregado. Para os algoritmos mais eficientes, as barras tendem a ser mais curtas.\n",
        "De modo geral, o gráfico mostra que, para grafos pequenos, todos são rápidos. Mas conforme o grafo cresce, o Dijkstra Clássico fica extremamente lento (a linha dispara para cima), enquanto o Dijkstra com Min-Heap e o NetworkX continuam relativamente rápidos (as linhas sobem bem menos).\n",
        "\n",
        "A escala do gráfico (\"logarítmica\") ajuda a gente a ver essa diferença enorme de crescimento.\n",
        "\n"
      ],
      "metadata": {
        "id": "o-W41-T8oGxQ"
      }
    },
    {
      "cell_type": "markdown",
      "source": [
        "## **Gráfico de Emissões Médias de CO₂ vs. Tamanho do Grafo**"
      ],
      "metadata": {
        "id": "8vxCzJIINAG3"
      }
    },
    {
      "cell_type": "code",
      "metadata": {
        "colab": {
          "base_uri": "https://localhost:8080/",
          "height": 599
        },
        "id": "9142cef2",
        "outputId": "f1d33ddf-2adb-47fb-ad1d-fdc7107c0f7c"
      },
      "source": [
        "# Gráfico Interativo de Emissões Médias de CO₂ vs. Tamanho do Grafo\n",
        "fig_co2_plotly = px.line(df_summary,\n",
        "                         x='Tamanho_N',\n",
        "                         y='mean_co2',\n",
        "                         color='Algoritmo',\n",
        "                         log_x=True,\n",
        "                         markers=True,\n",
        "                         # Adiciona barras de erro usando a margem do intervalo de confiança\n",
        "                         error_y='ci_margin_co2',\n",
        "                         title='Comparação de Emissões Médias de CO₂ por Tamanho do Grafo')\n",
        "\n",
        "# Adicionar barras de erro (opcional, similar ao gráfico de tempo)\n",
        "\n",
        "fig_co2_plotly.update_layout(\n",
        "    xaxis_title='Tamanho do Grafo (escala logarítmica)',\n",
        "    yaxis_title='Emissões Médias de CO₂ (kg)',\n",
        "    hovermode='x unified' # Melhora a interatividade ao passar o mouse\n",
        ")\n",
        "\n",
        "fig_co2_plotly.show()\n",
        "\n",
        "# Salvar o gráfico interativo como HTML (opcional)\n",
        "output_plot_co2_plotly = '/content/drive/MyDrive/Trabalho AED2 - 3pts/co2_medio_comparacao_plotly.html'\n",
        "fig_co2_plotly.write_html(output_plot_co2_plotly)\n",
        "print(f\"\\nGráfico Interativo de Emissões de CO₂ Médias salvo em: {output_plot_co2_plotly}\")"
      ],
      "execution_count": 9,
      "outputs": [
        {
          "output_type": "display_data",
          "data": {
            "text/html": [
              "<html>\n",
              "<head><meta charset=\"utf-8\" /></head>\n",
              "<body>\n",
              "    <div>            <script src=\"https://cdnjs.cloudflare.com/ajax/libs/mathjax/2.7.5/MathJax.js?config=TeX-AMS-MML_SVG\"></script><script type=\"text/javascript\">if (window.MathJax && window.MathJax.Hub && window.MathJax.Hub.Config) {window.MathJax.Hub.Config({SVG: {font: \"STIX-Web\"}});}</script>                <script type=\"text/javascript\">window.PlotlyConfig = {MathJaxConfig: 'local'};</script>\n",
              "        <script charset=\"utf-8\" src=\"https://cdn.plot.ly/plotly-2.35.2.min.js\"></script>                <div id=\"6147797f-8cba-4d65-8113-950cca5384ae\" class=\"plotly-graph-div\" style=\"height:525px; width:100%;\"></div>            <script type=\"text/javascript\">                                    window.PLOTLYENV=window.PLOTLYENV || {};                                    if (document.getElementById(\"6147797f-8cba-4d65-8113-950cca5384ae\")) {                    Plotly.newPlot(                        \"6147797f-8cba-4d65-8113-950cca5384ae\",                        [{\"error_y\":{\"array\":[3.6505026900522485e-10,4.4178073275233745e-9,2.7787836007886262e-9,2.1112570888638465e-8,7.410481707865679e-7,2.3937239721429857e-6,0.00006995734048660649]},\"hovertemplate\":\"Algoritmo=Dijkstra Clássico (V^2)\\u003cbr\\u003eTamanho_N=%{x}\\u003cbr\\u003emean_co2=%{y}\\u003cextra\\u003e\\u003c\\u002fextra\\u003e\",\"legendgroup\":\"Dijkstra Clássico (V^2)\",\"line\":{\"color\":\"#636efa\",\"dash\":\"solid\"},\"marker\":{\"symbol\":\"circle\"},\"mode\":\"lines+markers\",\"name\":\"Dijkstra Clássico (V^2)\",\"orientation\":\"v\",\"showlegend\":true,\"x\":[17,19,497,1000,5000,10000,50000],\"xaxis\":\"x\",\"y\":[2.9764748875684937e-9,6.2768496907764835e-9,9.516232419198245e-9,8.809114698611865e-8,3.892043984893423e-6,0.000018093053034622298,0.00047945050610908663],\"yaxis\":\"y\",\"type\":\"scatter\"},{\"error_y\":{\"array\":[2.534857411273158e-10,4.824151961172308e-9,1.2969272839780274e-9,1.3457647225010234e-9,2.30569668081882e-8,4.7654349985615624e-8,8.206446753192896e-7]},\"hovertemplate\":\"Algoritmo=Dijkstra Min-Heap ((V+E)logV)\\u003cbr\\u003eTamanho_N=%{x}\\u003cbr\\u003emean_co2=%{y}\\u003cextra\\u003e\\u003c\\u002fextra\\u003e\",\"legendgroup\":\"Dijkstra Min-Heap ((V+E)logV)\",\"line\":{\"color\":\"#EF553B\",\"dash\":\"solid\"},\"marker\":{\"symbol\":\"circle\"},\"mode\":\"lines+markers\",\"name\":\"Dijkstra Min-Heap ((V+E)logV)\",\"orientation\":\"v\",\"showlegend\":true,\"x\":[17,19,497,1000,5000,10000,50000],\"xaxis\":\"x\",\"y\":[3.054559989248957e-9,7.8232293083689e-9,6.568351641437693e-9,1.278294945413014e-8,1.261406594823461e-7,3.575046017726917e-7,3.886622797032007e-6],\"yaxis\":\"y\",\"type\":\"scatter\"},{\"error_y\":{\"array\":[1.8892552193355057e-10,3.9002242271140115e-9,1.4636444680967521e-9,1.7466643644835013e-9,4.050376737077682e-8,1.3718080981627163e-7,8.898544081312808e-7]},\"hovertemplate\":\"Algoritmo=NetworkX (Referência)\\u003cbr\\u003eTamanho_N=%{x}\\u003cbr\\u003emean_co2=%{y}\\u003cextra\\u003e\\u003c\\u002fextra\\u003e\",\"legendgroup\":\"NetworkX (Referência)\",\"line\":{\"color\":\"#00cc96\",\"dash\":\"solid\"},\"marker\":{\"symbol\":\"circle\"},\"mode\":\"lines+markers\",\"name\":\"NetworkX (Referência)\",\"orientation\":\"v\",\"showlegend\":true,\"x\":[17,19,497,1000,5000,10000,50000],\"xaxis\":\"x\",\"y\":[3.309207528629589e-9,8.020995196110529e-9,1.2972711858542926e-8,3.217802512340808e-8,6.464980652649497e-7,2.6491194859212614e-6,0.00007450159116447716],\"yaxis\":\"y\",\"type\":\"scatter\"}],                        {\"template\":{\"data\":{\"histogram2dcontour\":[{\"type\":\"histogram2dcontour\",\"colorbar\":{\"outlinewidth\":0,\"ticks\":\"\"},\"colorscale\":[[0.0,\"#0d0887\"],[0.1111111111111111,\"#46039f\"],[0.2222222222222222,\"#7201a8\"],[0.3333333333333333,\"#9c179e\"],[0.4444444444444444,\"#bd3786\"],[0.5555555555555556,\"#d8576b\"],[0.6666666666666666,\"#ed7953\"],[0.7777777777777778,\"#fb9f3a\"],[0.8888888888888888,\"#fdca26\"],[1.0,\"#f0f921\"]]}],\"choropleth\":[{\"type\":\"choropleth\",\"colorbar\":{\"outlinewidth\":0,\"ticks\":\"\"}}],\"histogram2d\":[{\"type\":\"histogram2d\",\"colorbar\":{\"outlinewidth\":0,\"ticks\":\"\"},\"colorscale\":[[0.0,\"#0d0887\"],[0.1111111111111111,\"#46039f\"],[0.2222222222222222,\"#7201a8\"],[0.3333333333333333,\"#9c179e\"],[0.4444444444444444,\"#bd3786\"],[0.5555555555555556,\"#d8576b\"],[0.6666666666666666,\"#ed7953\"],[0.7777777777777778,\"#fb9f3a\"],[0.8888888888888888,\"#fdca26\"],[1.0,\"#f0f921\"]]}],\"heatmap\":[{\"type\":\"heatmap\",\"colorbar\":{\"outlinewidth\":0,\"ticks\":\"\"},\"colorscale\":[[0.0,\"#0d0887\"],[0.1111111111111111,\"#46039f\"],[0.2222222222222222,\"#7201a8\"],[0.3333333333333333,\"#9c179e\"],[0.4444444444444444,\"#bd3786\"],[0.5555555555555556,\"#d8576b\"],[0.6666666666666666,\"#ed7953\"],[0.7777777777777778,\"#fb9f3a\"],[0.8888888888888888,\"#fdca26\"],[1.0,\"#f0f921\"]]}],\"heatmapgl\":[{\"type\":\"heatmapgl\",\"colorbar\":{\"outlinewidth\":0,\"ticks\":\"\"},\"colorscale\":[[0.0,\"#0d0887\"],[0.1111111111111111,\"#46039f\"],[0.2222222222222222,\"#7201a8\"],[0.3333333333333333,\"#9c179e\"],[0.4444444444444444,\"#bd3786\"],[0.5555555555555556,\"#d8576b\"],[0.6666666666666666,\"#ed7953\"],[0.7777777777777778,\"#fb9f3a\"],[0.8888888888888888,\"#fdca26\"],[1.0,\"#f0f921\"]]}],\"contourcarpet\":[{\"type\":\"contourcarpet\",\"colorbar\":{\"outlinewidth\":0,\"ticks\":\"\"}}],\"contour\":[{\"type\":\"contour\",\"colorbar\":{\"outlinewidth\":0,\"ticks\":\"\"},\"colorscale\":[[0.0,\"#0d0887\"],[0.1111111111111111,\"#46039f\"],[0.2222222222222222,\"#7201a8\"],[0.3333333333333333,\"#9c179e\"],[0.4444444444444444,\"#bd3786\"],[0.5555555555555556,\"#d8576b\"],[0.6666666666666666,\"#ed7953\"],[0.7777777777777778,\"#fb9f3a\"],[0.8888888888888888,\"#fdca26\"],[1.0,\"#f0f921\"]]}],\"surface\":[{\"type\":\"surface\",\"colorbar\":{\"outlinewidth\":0,\"ticks\":\"\"},\"colorscale\":[[0.0,\"#0d0887\"],[0.1111111111111111,\"#46039f\"],[0.2222222222222222,\"#7201a8\"],[0.3333333333333333,\"#9c179e\"],[0.4444444444444444,\"#bd3786\"],[0.5555555555555556,\"#d8576b\"],[0.6666666666666666,\"#ed7953\"],[0.7777777777777778,\"#fb9f3a\"],[0.8888888888888888,\"#fdca26\"],[1.0,\"#f0f921\"]]}],\"mesh3d\":[{\"type\":\"mesh3d\",\"colorbar\":{\"outlinewidth\":0,\"ticks\":\"\"}}],\"scatter\":[{\"fillpattern\":{\"fillmode\":\"overlay\",\"size\":10,\"solidity\":0.2},\"type\":\"scatter\"}],\"parcoords\":[{\"type\":\"parcoords\",\"line\":{\"colorbar\":{\"outlinewidth\":0,\"ticks\":\"\"}}}],\"scatterpolargl\":[{\"type\":\"scatterpolargl\",\"marker\":{\"colorbar\":{\"outlinewidth\":0,\"ticks\":\"\"}}}],\"bar\":[{\"error_x\":{\"color\":\"#2a3f5f\"},\"error_y\":{\"color\":\"#2a3f5f\"},\"marker\":{\"line\":{\"color\":\"#E5ECF6\",\"width\":0.5},\"pattern\":{\"fillmode\":\"overlay\",\"size\":10,\"solidity\":0.2}},\"type\":\"bar\"}],\"scattergeo\":[{\"type\":\"scattergeo\",\"marker\":{\"colorbar\":{\"outlinewidth\":0,\"ticks\":\"\"}}}],\"scatterpolar\":[{\"type\":\"scatterpolar\",\"marker\":{\"colorbar\":{\"outlinewidth\":0,\"ticks\":\"\"}}}],\"histogram\":[{\"marker\":{\"pattern\":{\"fillmode\":\"overlay\",\"size\":10,\"solidity\":0.2}},\"type\":\"histogram\"}],\"scattergl\":[{\"type\":\"scattergl\",\"marker\":{\"colorbar\":{\"outlinewidth\":0,\"ticks\":\"\"}}}],\"scatter3d\":[{\"type\":\"scatter3d\",\"line\":{\"colorbar\":{\"outlinewidth\":0,\"ticks\":\"\"}},\"marker\":{\"colorbar\":{\"outlinewidth\":0,\"ticks\":\"\"}}}],\"scattermapbox\":[{\"type\":\"scattermapbox\",\"marker\":{\"colorbar\":{\"outlinewidth\":0,\"ticks\":\"\"}}}],\"scatterternary\":[{\"type\":\"scatterternary\",\"marker\":{\"colorbar\":{\"outlinewidth\":0,\"ticks\":\"\"}}}],\"scattercarpet\":[{\"type\":\"scattercarpet\",\"marker\":{\"colorbar\":{\"outlinewidth\":0,\"ticks\":\"\"}}}],\"carpet\":[{\"aaxis\":{\"endlinecolor\":\"#2a3f5f\",\"gridcolor\":\"white\",\"linecolor\":\"white\",\"minorgridcolor\":\"white\",\"startlinecolor\":\"#2a3f5f\"},\"baxis\":{\"endlinecolor\":\"#2a3f5f\",\"gridcolor\":\"white\",\"linecolor\":\"white\",\"minorgridcolor\":\"white\",\"startlinecolor\":\"#2a3f5f\"},\"type\":\"carpet\"}],\"table\":[{\"cells\":{\"fill\":{\"color\":\"#EBF0F8\"},\"line\":{\"color\":\"white\"}},\"header\":{\"fill\":{\"color\":\"#C8D4E3\"},\"line\":{\"color\":\"white\"}},\"type\":\"table\"}],\"barpolar\":[{\"marker\":{\"line\":{\"color\":\"#E5ECF6\",\"width\":0.5},\"pattern\":{\"fillmode\":\"overlay\",\"size\":10,\"solidity\":0.2}},\"type\":\"barpolar\"}],\"pie\":[{\"automargin\":true,\"type\":\"pie\"}]},\"layout\":{\"autotypenumbers\":\"strict\",\"colorway\":[\"#636efa\",\"#EF553B\",\"#00cc96\",\"#ab63fa\",\"#FFA15A\",\"#19d3f3\",\"#FF6692\",\"#B6E880\",\"#FF97FF\",\"#FECB52\"],\"font\":{\"color\":\"#2a3f5f\"},\"hovermode\":\"closest\",\"hoverlabel\":{\"align\":\"left\"},\"paper_bgcolor\":\"white\",\"plot_bgcolor\":\"#E5ECF6\",\"polar\":{\"bgcolor\":\"#E5ECF6\",\"angularaxis\":{\"gridcolor\":\"white\",\"linecolor\":\"white\",\"ticks\":\"\"},\"radialaxis\":{\"gridcolor\":\"white\",\"linecolor\":\"white\",\"ticks\":\"\"}},\"ternary\":{\"bgcolor\":\"#E5ECF6\",\"aaxis\":{\"gridcolor\":\"white\",\"linecolor\":\"white\",\"ticks\":\"\"},\"baxis\":{\"gridcolor\":\"white\",\"linecolor\":\"white\",\"ticks\":\"\"},\"caxis\":{\"gridcolor\":\"white\",\"linecolor\":\"white\",\"ticks\":\"\"}},\"coloraxis\":{\"colorbar\":{\"outlinewidth\":0,\"ticks\":\"\"}},\"colorscale\":{\"sequential\":[[0.0,\"#0d0887\"],[0.1111111111111111,\"#46039f\"],[0.2222222222222222,\"#7201a8\"],[0.3333333333333333,\"#9c179e\"],[0.4444444444444444,\"#bd3786\"],[0.5555555555555556,\"#d8576b\"],[0.6666666666666666,\"#ed7953\"],[0.7777777777777778,\"#fb9f3a\"],[0.8888888888888888,\"#fdca26\"],[1.0,\"#f0f921\"]],\"sequentialminus\":[[0.0,\"#0d0887\"],[0.1111111111111111,\"#46039f\"],[0.2222222222222222,\"#7201a8\"],[0.3333333333333333,\"#9c179e\"],[0.4444444444444444,\"#bd3786\"],[0.5555555555555556,\"#d8576b\"],[0.6666666666666666,\"#ed7953\"],[0.7777777777777778,\"#fb9f3a\"],[0.8888888888888888,\"#fdca26\"],[1.0,\"#f0f921\"]],\"diverging\":[[0,\"#8e0152\"],[0.1,\"#c51b7d\"],[0.2,\"#de77ae\"],[0.3,\"#f1b6da\"],[0.4,\"#fde0ef\"],[0.5,\"#f7f7f7\"],[0.6,\"#e6f5d0\"],[0.7,\"#b8e186\"],[0.8,\"#7fbc41\"],[0.9,\"#4d9221\"],[1,\"#276419\"]]},\"xaxis\":{\"gridcolor\":\"white\",\"linecolor\":\"white\",\"ticks\":\"\",\"title\":{\"standoff\":15},\"zerolinecolor\":\"white\",\"automargin\":true,\"zerolinewidth\":2},\"yaxis\":{\"gridcolor\":\"white\",\"linecolor\":\"white\",\"ticks\":\"\",\"title\":{\"standoff\":15},\"zerolinecolor\":\"white\",\"automargin\":true,\"zerolinewidth\":2},\"scene\":{\"xaxis\":{\"backgroundcolor\":\"#E5ECF6\",\"gridcolor\":\"white\",\"linecolor\":\"white\",\"showbackground\":true,\"ticks\":\"\",\"zerolinecolor\":\"white\",\"gridwidth\":2},\"yaxis\":{\"backgroundcolor\":\"#E5ECF6\",\"gridcolor\":\"white\",\"linecolor\":\"white\",\"showbackground\":true,\"ticks\":\"\",\"zerolinecolor\":\"white\",\"gridwidth\":2},\"zaxis\":{\"backgroundcolor\":\"#E5ECF6\",\"gridcolor\":\"white\",\"linecolor\":\"white\",\"showbackground\":true,\"ticks\":\"\",\"zerolinecolor\":\"white\",\"gridwidth\":2}},\"shapedefaults\":{\"line\":{\"color\":\"#2a3f5f\"}},\"annotationdefaults\":{\"arrowcolor\":\"#2a3f5f\",\"arrowhead\":0,\"arrowwidth\":1},\"geo\":{\"bgcolor\":\"white\",\"landcolor\":\"#E5ECF6\",\"subunitcolor\":\"white\",\"showland\":true,\"showlakes\":true,\"lakecolor\":\"white\"},\"title\":{\"x\":0.05},\"mapbox\":{\"style\":\"light\"}}},\"xaxis\":{\"anchor\":\"y\",\"domain\":[0.0,1.0],\"title\":{\"text\":\"Tamanho do Grafo (escala logarítmica)\"},\"type\":\"log\"},\"yaxis\":{\"anchor\":\"x\",\"domain\":[0.0,1.0],\"title\":{\"text\":\"Emissões Médias de CO₂ (kg)\"}},\"legend\":{\"title\":{\"text\":\"Algoritmo\"},\"tracegroupgap\":0},\"title\":{\"text\":\"Comparação de Emissões Médias de CO₂ por Tamanho do Grafo\"},\"hovermode\":\"x unified\"},                        {\"responsive\": true}                    ).then(function(){\n",
              "                            \n",
              "var gd = document.getElementById('6147797f-8cba-4d65-8113-950cca5384ae');\n",
              "var x = new MutationObserver(function (mutations, observer) {{\n",
              "        var display = window.getComputedStyle(gd).display;\n",
              "        if (!display || display === 'none') {{\n",
              "            console.log([gd, 'removed!']);\n",
              "            Plotly.purge(gd);\n",
              "            observer.disconnect();\n",
              "        }}\n",
              "}});\n",
              "\n",
              "// Listen for the removal of the full notebook cells\n",
              "var notebookContainer = gd.closest('#notebook-container');\n",
              "if (notebookContainer) {{\n",
              "    x.observe(notebookContainer, {childList: true});\n",
              "}}\n",
              "\n",
              "// Listen for the clearing of the current output cell\n",
              "var outputEl = gd.closest('.output');\n",
              "if (outputEl) {{\n",
              "    x.observe(outputEl, {childList: true});\n",
              "}}\n",
              "\n",
              "                        })                };                            </script>        </div>\n",
              "</body>\n",
              "</html>"
            ]
          },
          "metadata": {}
        },
        {
          "output_type": "stream",
          "name": "stdout",
          "text": [
            "\n",
            "Gráfico Interativo de Emissões de CO₂ Médias salvo em: /content/drive/MyDrive/Trabalho AED2 - 3pts/co2_medio_comparacao_plotly.html\n"
          ]
        }
      ]
    },
    {
      "cell_type": "markdown",
      "source": [
        "## **Interpretação do Gráfico de Emissões Médias de CO₂ vs. Tamanho do Grafo**\n",
        "\n",
        "Assim como o tempo de execução, as emissões de CO₂ (a \"pegada de carbono\") estão diretamente ligadas ao quanto o computador trabalhou. Se um algoritmo leva mais tempo e usa mais recursos, ele tende a gerar mais emissões.\n",
        "\n",
        "* **Dijkstra Clássico:** A linha dele para as emissões de CO₂ também sobe muito rapidamente conforme o grafo cresce. Assim como no gráfico de tempo, isso mostra que o algoritmo clássico, por ser menos eficiente para grafos grandes, faz o computador trabalhar muito mais e, consequentemente, gasta mais energia e gera mais CO₂.\n",
        "\n",
        "* **Dijkstra com Min-Heap:** A linha para as emissões de CO₂ deste algoritmo sobe de forma muito mais suave e controlada, assim como no gráfico de tempo. Isso indica que, por ser mais eficiente e rápido, ele exige menos do computador e tem uma pegada de carbono menor para grafos grandes.\n",
        "\n",
        "* **NetworkX (Referência):** A linha de CO₂ do NetworkX também segue de perto a do Min-Heap, reforçando que sua eficiência se traduz em menor consumo de energia e menores emissões de CO₂.\n",
        "\n",
        "Em resumo, o segundo gráfico confirma o que vimos no primeiro: algoritmos mais eficientes (Min-Heap e NetworkX) não só rodam mais rápido, mas também são mais \"verdes\" ou consomem menos energia (e, portanto, geram menos CO₂ proporcionalmente ao tempo) do que o algoritmo clássico para grafos grandes. A diferença na pegada de carbono se torna enorme conforme o tamanho do problema aumenta."
      ],
      "metadata": {
        "id": "wd6XHCdXsQNn"
      }
    },
    {
      "cell_type": "markdown",
      "source": [
        "## **Conclusão**\n",
        "\n",
        "Algoritmos mais eficientes são mais rápidos e têm uma pegada de carbono consideravelmente menor para problemas maiores.\n",
        "\n",
        "O **Dijkstra Clássico** se torna extremamente lento e consome muito mais recursos (gerando mais CO₂) à medida que o tamanho do grafo aumenta, tornando-o inviável para grafos grandes.\n",
        "\n",
        "O **Dijkstra com Min-Heap e a implementação do NetworkX** demonstram ser muito mais escaláveis. Eles lidam com grafos grandes de forma muito mais eficiente, com um aumento de tempo e emissões de CO₂ significativamente menor em comparação com a versão clássica.\n",
        "\n",
        "Isso mostra que a escolha do algoritmo correto, considerando sua eficiência (complexidade de tempo), tem um impacto direto e proporcional tanto na performance (rapidez) quanto no consumo de recursos computacionais (e, consequentemente, nas emissões de CO₂). Para problemas do mundo real com grandes conjuntos de dados (grafos), algoritmos otimizados como o Dijkstra com Min-Heap são essenciais não apenas pela velocidade, mas também por serem mais \"sustentáveis\" computacionalmente."
      ],
      "metadata": {
        "id": "FWTd1VJ7s5Yz"
      }
    }
  ],
  "metadata": {
    "accelerator": "GPU",
    "colab": {
      "gpuType": "T4",
      "provenance": []
    },
    "kernelspec": {
      "display_name": "Python 3",
      "name": "python3"
    },
    "language_info": {
      "name": "python"
    }
  },
  "nbformat": 4,
  "nbformat_minor": 0
}